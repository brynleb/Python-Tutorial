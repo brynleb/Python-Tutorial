{
 "cells": [
  {
   "cell_type": "markdown",
   "metadata": {},
   "source": [
    "# PyTutorial 1.2 - Strings and string functions\n",
    "\n",
    "Welcome to the first module of the Python Tutorial (in Jupyter Notebook form!)  \n",
    "Here, code is written and executed in 'cells' and data is stored in a kernel for future access.  \n",
    "To execute the code within a cell:\n",
    "- Hover over a cell and click on the triangular 'Execute Cell' icon to the left of the cell  \n",
    "- Alternatively, click on the cell and type 'Shift + Enter'  \n",
    "\n",
    "The output of a Code cell appears directly below it.  \n",
    "Cell output can be removed by clicking on the ellipsis '...' next to the output and selecting 'Clear Cell Output'.  \n",
    "Alternatively, all cell output can be removed by selecting 'Clear Output of All Cells' in the menu bar at the top of the notebook.  \n",
    "\n",
    "You can also add Code cells by clicking on '+ Code' when hovering between cells.  \n",
    "Markdown cells like this one can be added using '+ Markdown'.  \n",
    "\n",
    "In this module, we'll cover the use of strings and string functions.  "
   ]
  },
  {
   "cell_type": "code",
   "execution_count": null,
   "metadata": {},
   "outputs": [],
   "source": [
    "# Print a message to the screen\n",
    "print('Hello World')"
   ]
  },
  {
   "cell_type": "markdown",
   "metadata": {},
   "source": [
    "Note that comments in Python are preceded by a hastag '#'.  \n",
    "Comments can be toggled on and off with the hotkey: 'Alt+/'  "
   ]
  },
  {
   "cell_type": "code",
   "execution_count": null,
   "metadata": {},
   "outputs": [],
   "source": [
    "# Define a string variable to hold the message\n",
    "message = 'Hello World'\n",
    "print(message)\n",
    "\n",
    "# Strings can be defined with single or double quotes\n",
    "message = \"Hello World\"\n",
    "print(message)"
   ]
  },
  {
   "cell_type": "code",
   "execution_count": null,
   "metadata": {},
   "outputs": [],
   "source": [
    "# Beware of using multiple quotes in single string: e.g. 'Harry's Car' results in an error\n",
    "# Solution:\n",
    "message = \"Harry's car\"\n",
    "# Alternate solution:\n",
    "message = 'Harry\\'s car'\n",
    "print(message)"
   ]
  },
  {
   "cell_type": "code",
   "execution_count": null,
   "metadata": {},
   "outputs": [],
   "source": [
    "# Strings can be defined across multiple lines using triple quotes\n",
    "message = \"\"\"Harry's car had\n",
    "a bad day\"\"\"\n",
    "print(message)"
   ]
  },
  {
   "cell_type": "code",
   "execution_count": null,
   "metadata": {},
   "outputs": [],
   "source": [
    "# Strings are just a list of characters.\n",
    "# We can operate on individual characters with basic functions from the standard library.\n",
    "# The function 'len(s)' returns the number of characters in string 's'\n",
    "message = 'Hello World'\n",
    "print(len(message))"
   ]
  },
  {
   "cell_type": "code",
   "execution_count": null,
   "metadata": {},
   "outputs": [],
   "source": [
    "# Individual characters can be accessed with square brackets by passing the index of the desired character:\n",
    "# Note the first character is accessed with index = 0, and the last is index = len(s)-1\n",
    "message = 'Hello World'\n",
    "print(message[0])\n",
    "print(message[1])\n",
    "print(message[2])\n",
    "print(message[3])\n",
    "print(message[4])\n",
    "print(message[10])\n",
    "print(message[11]) # This command causes an IndexError because the last character is at index = 10"
   ]
  },
  {
   "cell_type": "code",
   "execution_count": null,
   "metadata": {},
   "outputs": [],
   "source": [
    "# We can access a range of characters using the colon ':'\n",
    "message = 'Hello World'\n",
    "print(message[0:5])\n",
    "# Here, the 1st index is inclusive but the 2nd index is not\n",
    "# This means Python will return a string starting at the 1st index up to, but not including, the 2nd index.\n",
    "\n",
    "# Leaving the 1st index blank will default to the beginning of the string\n",
    "print(message[:5])\n",
    "# Leaving the 2nd index blank will default to the end of the string\n",
    "print(message[6:])"
   ]
  },
  {
   "cell_type": "code",
   "execution_count": null,
   "metadata": {},
   "outputs": [],
   "source": [
    "# Suppose we want to count the number of occurances a particular letter has in a string.\n",
    "# We can use the string method 'count(s)' which takes a string as an argument:\n",
    "message = 'Hello World'\n",
    "print(message.count('l'))\n",
    "\n",
    "# We can also count the number of sub-strings in a string by passing that to count:\n",
    "print(message.count('Hello'))\n",
    "\n",
    "# Note that count is case sensitive:\n",
    "print(message.count('hello'))"
   ]
  },
  {
   "cell_type": "code",
   "execution_count": null,
   "metadata": {},
   "outputs": [],
   "source": [
    "# We can also find where particular sub-strings are in a string using 'find(s)'.\n",
    "message = 'Hello World'\n",
    "print(message.find('o'))\n",
    "# Note that 'find(s)' returns the index corresponding to the first occurance of s.\n",
    "\n",
    "print(message.find('World'))\n",
    "# In this case, it returns the index of message corresponding to the first character in 'World'.\n",
    "\n",
    "# 'find(s)' is also case sensitive, and returns -1 if the sub-string is not found.\n",
    "print(message.find('world'))"
   ]
  },
  {
   "cell_type": "code",
   "execution_count": null,
   "metadata": {},
   "outputs": [],
   "source": [
    "# If we want to replace part of a string with a new string,\n",
    "# we can use the 'replace(s1,s2)' method which replaces sub-string s1 with s2\n",
    "message = 'Hello World'\n",
    "new_message = message.replace('World', 'Universe')\n",
    "print(new_message)\n",
    "\n",
    "# Note that 'replace' does not modify the original string, it returns a new one\n",
    "message.replace('World', 'Universe')\n",
    "print(message)"
   ]
  },
  {
   "cell_type": "code",
   "execution_count": null,
   "metadata": {},
   "outputs": [],
   "source": [
    "# We can combine/concatenate multiple strings together using '+'\n",
    "greeting = 'Hello'\n",
    "name = 'Michael'\n",
    "message = greeting + name\n",
    "print(message)\n",
    "\n",
    "# Add a comma and a space:\n",
    "message = greeting + ', ' + name\n",
    "print(message)\n",
    "\n",
    "# Add another word and more punctuation:\n",
    "message = greeting + ', ' + name + '. Welcome!'\n",
    "print(message)"
   ]
  },
  {
   "cell_type": "code",
   "execution_count": null,
   "metadata": {},
   "outputs": [],
   "source": [
    "# A more elegant way to combine strings is to use a format statement.\n",
    "# Placeholders are specified with curly brackets {}\n",
    "greeting = 'Hello'\n",
    "name = 'Michael'\n",
    "message = '{} {}, Welcome!'.format(greeting, name)\n",
    "print(message)"
   ]
  },
  {
   "cell_type": "code",
   "execution_count": null,
   "metadata": {},
   "outputs": [],
   "source": [
    "# We could also use f-strings, which is new since Python 3.6 and aims to make string formating as simple as possible.\n",
    "# f-strings are preceded with an 'f' before the string statement, and the variables appear directly within the placeholders:\n",
    "greeting = 'Hello'\n",
    "name = 'Michael'\n",
    "message = f'{greeting} {name}, Welcome!'\n",
    "print(message)\n",
    "\n",
    "# The advantage of f-strings is that code can be written directly within the placeholders.\n",
    "message = f'{greeting.lower()} {name.upper()}, Welcome!'\n",
    "print(message)"
   ]
  },
  {
   "cell_type": "markdown",
   "metadata": {},
   "source": [
    "TIPS AND TRICKS"
   ]
  },
  {
   "cell_type": "code",
   "execution_count": null,
   "metadata": {},
   "outputs": [],
   "source": [
    "# Use the 'dir' function to get a list of all the attributes and methods accessible to a particular variable\n",
    "message = 'Hello World'\n",
    "print(dir(message))"
   ]
  },
  {
   "cell_type": "code",
   "execution_count": null,
   "metadata": {},
   "outputs": [],
   "source": [
    "# Use type(variable) to return the variable type of a given variable\n",
    "message = 'Hello World'\n",
    "print(type(message))"
   ]
  },
  {
   "cell_type": "code",
   "execution_count": null,
   "metadata": {},
   "outputs": [],
   "source": [
    "# Use the 'help' function with a given variable type to get a description of its attributes and methods\n",
    "message = 'Hello World'\n",
    "print(help(type(message)))"
   ]
  },
  {
   "cell_type": "code",
   "execution_count": null,
   "metadata": {},
   "outputs": [],
   "source": [
    "# You can also specify a specific attribute or message:\n",
    "message = 'Hello World'\n",
    "print(help(type(message).replace))"
   ]
  }
 ],
 "metadata": {
  "interpreter": {
   "hash": "d49c3f6d6dd49f9272b571d9fad348ab55b8c6c3f691520d74ed0af1f69c3dd8"
  },
  "kernelspec": {
   "display_name": "Python 3.7.9 64-bit",
   "language": "python",
   "name": "python3"
  },
  "language_info": {
   "codemirror_mode": {
    "name": "ipython",
    "version": 3
   },
   "file_extension": ".py",
   "mimetype": "text/x-python",
   "name": "python",
   "nbconvert_exporter": "python",
   "pygments_lexer": "ipython3",
   "version": "3.7.9"
  },
  "orig_nbformat": 4
 },
 "nbformat": 4,
 "nbformat_minor": 2
}
