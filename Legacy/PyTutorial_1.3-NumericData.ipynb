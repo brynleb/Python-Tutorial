{
 "cells": [
  {
   "cell_type": "markdown",
   "metadata": {},
   "source": [
    "# PyTutorial 1.3 - Working with numeric data\n",
    "\n",
    "Numeric data in Python is most commonly represented in integers and floats.  \n",
    "Python is a dynamically typed language: we don't need to predefine the data type of a given object  \n",
    "as we do in FORTRAN, C, C++, or Java. Python will automatically detect and assign data types on the fly."
   ]
  },
  {
   "cell_type": "code",
   "execution_count": null,
   "metadata": {},
   "outputs": [],
   "source": [
    "# We can display the data type of an object using the built-in function 'type()'\n",
    "num = 1\n",
    "print(type(num))\n",
    "\n",
    "num = 1.\n",
    "print(type(num))"
   ]
  },
  {
   "cell_type": "markdown",
   "metadata": {},
   "source": [
    "Python has several built-in arithmetic operators:\n",
    "- Addition: 3 + 2\n",
    "- Subtraction: 3 - 2\n",
    "- Multiplication: 3 * 2\n",
    "- Division: 3 / 2\n",
    "- Floor Division: 3 // 2\n",
    "- Exponent: 3 ** 2\n",
    "- Remainder: 3 % 2"
   ]
  },
  {
   "cell_type": "code",
   "execution_count": null,
   "metadata": {},
   "outputs": [],
   "source": [
    "# Printed examples of arithmetic operators:\n",
    "x = 5\n",
    "y = 2\n",
    "print('{} + {} = {}'.format(x,y,x+y))\n",
    "print('{} - {} = {}'.format(x,y,x-y))\n",
    "print('{} * {} = {}'.format(x,y,x*y))\n",
    "print('{} / {} = {}'.format(x,y,x/y))\n",
    "print('{}// {} = {}'.format(x,y,x//y))\n",
    "print('{}**{}  = {}'.format(x,y,x**y))\n",
    "print('{} % {} = {}'.format(x,y,x%y))"
   ]
  },
  {
   "cell_type": "code",
   "execution_count": null,
   "metadata": {},
   "outputs": [],
   "source": [
    "# Python follows the standard order of operations for arithmetic:\n",
    "print(3 * 2 + 1 - 2 / 4)\n",
    "print((3 * 2 + 1) - 2 / 4)\n",
    "print(3 * (2 + 1) - 2 / 4)\n",
    "print(3 * ((2 + 1) - 2) / 4)\n",
    "print(3 * ((2 + 1) - 2 / 4))"
   ]
  },
  {
   "cell_type": "code",
   "execution_count": null,
   "metadata": {},
   "outputs": [],
   "source": [
    "# There are several ways we can increment variables:\n",
    "num = 1\n",
    "print(num)\n",
    "\n",
    "num = num + 1\n",
    "print(num)\n",
    "\n",
    "# Shorthands for incrementing by a constant:\n",
    "num += 1\n",
    "print(num)\n",
    "\n",
    "num -= 1\n",
    "print(num)\n",
    "\n",
    "# Shorthand for multiplying by a constant:\n",
    "num *= -10\n",
    "print(num)"
   ]
  },
  {
   "cell_type": "code",
   "execution_count": null,
   "metadata": {},
   "outputs": [],
   "source": [
    "# Taking the absolute value of a number:\n",
    "num = abs(num)\n",
    "print(num)"
   ]
  },
  {
   "cell_type": "code",
   "execution_count": null,
   "metadata": {},
   "outputs": [],
   "source": [
    "# Rounding a float value to the nearest integer:\n",
    "x = 3.7548\n",
    "print(round(x))\n",
    "\n",
    "# Passing an integer n to the 2nd argument of round(x,n) will instead round \n",
    "# the nth digit after the decimal\n",
    "x = 3.7548\n",
    "print(round(x))\n",
    "print(round(x,1))\n",
    "print(round(x,2))\n",
    "print(round(x,3))"
   ]
  },
  {
   "cell_type": "markdown",
   "metadata": {},
   "source": [
    "Python has several built-in comparison operators:\n",
    "- Equal:\t\t\tx == y\n",
    "- Not Equal:\t\tx != y\n",
    "- Greater Than: \tx > y\n",
    "- Less Than:\t\tx < y\n",
    "- Greater or Equal:\tx >= y\n",
    "- Less or Equal:\tx <= y"
   ]
  },
  {
   "cell_type": "code",
   "execution_count": null,
   "metadata": {},
   "outputs": [],
   "source": [
    "# Printed examples of comparison operators:\n",
    "x = 3\n",
    "y = 2\n",
    "print('{} == {} = {}'.format(x,y,x == y))\n",
    "print('{} != {} = {}'.format(x,y,x != y))\n",
    "print('{}  > {} = {}'.format(x,y,x > y))\n",
    "print('{}  < {} = {}'.format(x,y,x < y))\n",
    "print('{} >= {} = {}'.format(x,y,x >= y))\n",
    "print('{} <= {} = {}'.format(x,y,x <= y))"
   ]
  },
  {
   "cell_type": "code",
   "execution_count": null,
   "metadata": {},
   "outputs": [],
   "source": [
    "# A common problem you'll encounter is converting between numerical data types and strings.\n",
    "# Suppose we read in some numbers from a file, but they are represented as strings.\n",
    "x_str = '100.2'\n",
    "y_str = '200.1'\n",
    "print(type(x_str))\n",
    "\n",
    "# Arithmetic on strings doesn't work the same as for numbers:\n",
    "print('x = ', x_str)\n",
    "print('y = ', y_str)\n",
    "print('x + y = ', x_str + y_str)"
   ]
  },
  {
   "cell_type": "code",
   "execution_count": null,
   "metadata": {},
   "outputs": [],
   "source": [
    "# We can cast these strings as floats using the float() function\n",
    "x = float(x_str)\n",
    "y = float(y_str)\n",
    "print(type(x))\n",
    "\n",
    "# Now we can perform arithmetic operations as usual\n",
    "print('x = ', x)\n",
    "print('y = ', y)\n",
    "print('x + y = ', x + y)"
   ]
  },
  {
   "cell_type": "code",
   "execution_count": null,
   "metadata": {},
   "outputs": [],
   "source": [
    "# We can also cast the floats as integers using the int() function\n",
    "x = int(x)\n",
    "y = int(y)\n",
    "print(type(x))\n",
    "print('x = ', x)\n",
    "print('y = ', y)\n",
    "print('x + y = ', x + y)"
   ]
  },
  {
   "cell_type": "code",
   "execution_count": null,
   "metadata": {},
   "outputs": [],
   "source": [
    "# Note that we can cast strings directly to integers using int() only if they have no decimal:\n",
    "x_str = '100'\n",
    "y_str = '100.'\n",
    "print(int(x_str))\n",
    "print(int(y_str)) # This line results in a ValueError: 'invalid literal for int() with base 10'"
   ]
  }
 ],
 "metadata": {
  "interpreter": {
   "hash": "d49c3f6d6dd49f9272b571d9fad348ab55b8c6c3f691520d74ed0af1f69c3dd8"
  },
  "kernelspec": {
   "display_name": "Python 3.7.9 64-bit",
   "language": "python",
   "name": "python3"
  },
  "language_info": {
   "codemirror_mode": {
    "name": "ipython",
    "version": 3
   },
   "file_extension": ".py",
   "mimetype": "text/x-python",
   "name": "python",
   "nbconvert_exporter": "python",
   "pygments_lexer": "ipython3",
   "version": "3.7.9"
  },
  "orig_nbformat": 4
 },
 "nbformat": 4,
 "nbformat_minor": 2
}
