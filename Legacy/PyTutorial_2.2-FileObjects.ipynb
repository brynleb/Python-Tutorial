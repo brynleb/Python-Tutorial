{
 "cells": [
  {
   "cell_type": "markdown",
   "metadata": {},
   "source": [
    "# PyTutorial 2.2 - File Objects\n",
    "\n",
    "Python uses file objects to read data from and write data to files.  \n",
    "We can create a file object using the built-in 'open' command.  "
   ]
  },
  {
   "cell_type": "code",
   "execution_count": null,
   "metadata": {},
   "outputs": [],
   "source": [
    "# To open a file for reading:\n",
    "f = open('Test.txt','r')"
   ]
  },
  {
   "cell_type": "markdown",
   "metadata": {},
   "source": [
    "Here the file 'Test.txt' is located in the same directory as this Notebook.  \n",
    "Note the 'r' indicates we want to open the file 'reading' only (this is the default if not specified).  \n",
    "We can also open a file for writing ('w'), appending ('a'), or reading and writing ('r+').  \n",
    "Note also that when opening a file manually this way, we must also close it explicitly with the 'close' method.  "
   ]
  },
  {
   "cell_type": "code",
   "execution_count": null,
   "metadata": {},
   "outputs": [],
   "source": [
    "# To get the file name:\n",
    "print('filename =', f.name)"
   ]
  },
  {
   "cell_type": "code",
   "execution_count": null,
   "metadata": {},
   "outputs": [],
   "source": [
    "# To get the mode the file was opened with:\n",
    "print('mode =', f.mode)"
   ]
  },
  {
   "cell_type": "code",
   "execution_count": null,
   "metadata": {},
   "outputs": [],
   "source": [
    "# To read the entire contents of the file:\n",
    "print(f.read())"
   ]
  },
  {
   "cell_type": "code",
   "execution_count": null,
   "metadata": {},
   "outputs": [],
   "source": [
    "# To get the open/closed state:\n",
    "print('file closed =', f.closed)"
   ]
  },
  {
   "cell_type": "code",
   "execution_count": null,
   "metadata": {},
   "outputs": [],
   "source": [
    "# To close the file:\n",
    "f.close()\n",
    "# This is required when directly using the open command without a 'context manager' in order to avoid memory leaks.\n",
    "\n",
    "print('file closed = ',f.closed)"
   ]
  },
  {
   "cell_type": "markdown",
   "metadata": {},
   "source": [
    "It's better to open files using Python's built-in context manager.  \n",
    "Context managers allow you to allocate and release resources precisely when you want to.  \n",
    "For example, they will automatically close a file opened within them, avoiding possible memory leaks.  \n",
    "A context manager can be created using the 'with' statement.   "
   ]
  },
  {
   "cell_type": "code",
   "execution_count": null,
   "metadata": {},
   "outputs": [],
   "source": [
    "# To access a file using a context manager:\n",
    "with open('Test.txt','r') as f:\n",
    "\tpass\n",
    "# When exiting the context manager, the file will automatically be closed.\n",
    "\n",
    "# We can verify that the file has been closed:\n",
    "print('file closed =', f.closed)\n",
    "# We still have access to the file object's info:\n",
    "print('filename =', f.name)\n",
    "# But not the contents:\n",
    "print(f.read()) # This results in a ValueError: 'I/O operation on a closed file'."
   ]
  },
  {
   "cell_type": "code",
   "execution_count": null,
   "metadata": {},
   "outputs": [],
   "source": [
    "# From within the context manager, we can access file contents in different ways:.\n",
    "with open('Test.txt','r') as f:\n",
    "\t# Using the 'read()' method returns all the contents as a string:\n",
    "\tf_contents = f.read()\n",
    "\tprint(f_contents, end='')\n",
    "\n",
    "# To get the number of characters in the file:\n",
    "print('characters =', len(f_contents))"
   ]
  },
  {
   "cell_type": "code",
   "execution_count": null,
   "metadata": {},
   "outputs": [],
   "source": [
    "with open('Test.txt','r') as f:\n",
    "\t# The 'readlines()' method returns a list of each line within the file:\n",
    "\tf_contents = f.readlines()\n",
    "\tprint(f_contents, end='')"
   ]
  },
  {
   "cell_type": "code",
   "execution_count": null,
   "metadata": {},
   "outputs": [],
   "source": [
    "with open('Test.txt','r') as f:\n",
    "\t# The 'readline()' method returns a single line:\n",
    "\tf_contents = f.readline()\n",
    "\tprint(f_contents, end='')\n",
    "\t# Each time we execute 'readline()', it goes to the next line in the file:\n",
    "\tf_contents = f.readline()\n",
    "\tprint(f_contents, end='')"
   ]
  },
  {
   "cell_type": "code",
   "execution_count": null,
   "metadata": {},
   "outputs": [],
   "source": [
    "with open('Test.txt','r') as f:\n",
    "\t# We can also loop over each line with a for loop:\n",
    "\tfor line in f:\n",
    "\t\tprint(line, end='')"
   ]
  },
  {
   "cell_type": "markdown",
   "metadata": {},
   "source": [
    "The above method is more efficient than loading in the entire file contexts all at once, which can lead to memory issues for very large files.  \n",
    "Here, we are reading in one line at a time and performing an operation on each line (printing it to the screen).  "
   ]
  },
  {
   "cell_type": "code",
   "execution_count": null,
   "metadata": {},
   "outputs": [],
   "source": [
    "with open('Test.txt','r') as f:\n",
    "\t# Using the 'read()' method, we can also specify the characters we want to read at a time:\n",
    "\tnum_chars = 30\n",
    "\tf_contents = f.read(num_chars)\n",
    "\tprint(f_contents, end='*') # The '*' character here illustrates the position where 'read' ends.\n",
    "\t# Each time 'read' is executed on the same file object, it resumes where the previous 'read' finished: \n",
    "\tf_contents = f.read(num_chars)\n",
    "\tprint(f_contents, end='*')\n",
    "\tf_contents = f.read(num_chars)\n",
    "\tprint(f_contents, end='*')"
   ]
  },
  {
   "cell_type": "code",
   "execution_count": null,
   "metadata": {},
   "outputs": [],
   "source": [
    "with open('Test.txt','r') as f:\n",
    "\t# The following loop reads the entire file 10 characters at a time:\n",
    "\tnum_chars = 10\n",
    "\tf_contents = f.read(num_chars)\n",
    "\twhile len(f_contents) > 0:\n",
    "\t\tprint(f_contents, end='*')\n",
    "\t\tf_contents = f.read(num_chars)\n",
    "\t\t# If it reaches the end of the file, 'read' returns an empty string."
   ]
  },
  {
   "cell_type": "code",
   "execution_count": null,
   "metadata": {},
   "outputs": [],
   "source": [
    "with open('Test.txt','r') as f:\n",
    "\t# Use the 'tell()' method to get the current character position in the file:\n",
    "\tf_contents = f.read(20)\n",
    "\tprint('position =', f.tell())\n",
    "\tf_contents = f.read(10)\n",
    "\tprint('position =', f.tell())\n",
    "\n",
    "\t# Use the 'seek()' method to change read position:\n",
    "\tf.seek(0)\n",
    "\tprint('position =', f.tell())\n",
    "\tprint('contexts =', f.read(22))\n",
    "\tf.seek(24)\n",
    "\tprint('position =', f.tell())\n",
    "\tprint('contexts =', f.read(23))\n"
   ]
  },
  {
   "cell_type": "markdown",
   "metadata": {},
   "source": [
    "To write to a file, it must be opened in write mode 'w'.  \n",
    "If the file does not exist, this operation creates a new file.  \n",
    "If the file does exist, this operation overwrites the file.  \n",
    "Use 'a' instead of 'w' to append to an existing file.  "
   ]
  },
  {
   "cell_type": "code",
   "execution_count": null,
   "metadata": {},
   "outputs": [],
   "source": [
    "# To write to a file:\n",
    "with open('Test2.txt','w') as f:\n",
    "\t# Use the 'write()' method to write text to the file:\n",
    "\tf.write('This is some text.\\n')\n",
    "\t# Opening the file in a text editor, you should see this string written at the beginning of the file.\n",
    "\tf.write('Some more text...\\n')\n",
    "\t# Subsequent 'write' executions will pick up where the previous 'write' finished.\n",
    "\t# Open the file externally to verify these lines have been written.\n",
    "\n",
    "\t# The 'seek' method can also be used to change the write position.\n",
    "\t# Now run this cell again with the following two lines uncommented:\n",
    "\t# f.seek(0)\n",
    "\t# f.write('Even more text.')\n",
    "\t# Note that this will only overwrite a portion of the first line because this string has fewer characters."
   ]
  },
  {
   "cell_type": "markdown",
   "metadata": {},
   "source": [
    "Attempting to use the 'read' method on a file opened in write mode will cause an error.  \n",
    "To both read and write to the same file, open it in update mode using 'r+' (no file truncation).  \n",
    "The mode 'w+' will also work, but the file's contents will initially be truncated (deleted).  "
   ]
  },
  {
   "cell_type": "code",
   "execution_count": null,
   "metadata": {},
   "outputs": [],
   "source": [
    "# Opening a file in update mode will allow both reading and writing:\n",
    "with open('Test.txt','r+') as f:\n",
    "\t# Read the file contents:\n",
    "\tprint(f.read())\n",
    "\t# Write a new line at the end of the file:\n",
    "\tf.write('11) Eleventh line\\n')\n",
    "\t# Return to the beginning of the file and read the contents again:\n",
    "\tf.seek(0)\n",
    "\tprint(f.read())"
   ]
  },
  {
   "cell_type": "markdown",
   "metadata": {},
   "source": [
    "To remove text from a file, we can make use of the 'truncate' command.  \n",
    "This will remove a specified number of bytes from the current read/write position in the file.  \n",
    "Note that 'truncate' does not modify this position in the file.  \n",
    "To modify file contents, it's generally best to read the file contents as a string, modify the string, and write it back to the file.  "
   ]
  },
  {
   "cell_type": "code",
   "execution_count": null,
   "metadata": {},
   "outputs": [],
   "source": [
    "# To return remove the line we just wrote to 'Test.txt':\n",
    "with open('Test.txt','r+') as f:\n",
    "\t# Read in the all the lines as a list:\n",
    "\tf_lines = f.readlines()\n",
    "\t# Return to the beginning of the file:\n",
    "\tf.seek(0)\n",
    "\t# Delete the file contexts from the current file position:\n",
    "\tf.truncate() # Without specifying an integer number of bytes, 'truncate()' defaults to removing the remaining contents.\n",
    "\t# Use 'writelines' to write the only the desired lines back to the file:\n",
    "\tf.writelines(f_lines[:-1])\n",
    "\t# Return to the beginning of the file and read the contexts again:\n",
    "\tf.seek(0)\n",
    "\tprint(f.read())\n"
   ]
  },
  {
   "cell_type": "code",
   "execution_count": null,
   "metadata": {},
   "outputs": [],
   "source": [
    "# The following example makes a copy of 'Test.txt' in a new file called 'Test_copy.txt'\n",
    "# Here, we open 'Test.txt' in read mode and 'Test_copy.txt' in write mode.\n",
    "# For each line in 'Test.txt', we write the same line to 'Test_copy.txt'.\n",
    "with open('Test.txt','r') as rf:\n",
    "\twith open('Test_copy.txt','w') as wf:\n",
    "\t\tfor line in rf:\n",
    "\t\t\twf.write(line)"
   ]
  }
 ],
 "metadata": {
  "kernelspec": {
   "display_name": "Python 3.7.9 64-bit",
   "language": "python",
   "name": "python3"
  },
  "language_info": {
   "codemirror_mode": {
    "name": "ipython",
    "version": 3
   },
   "file_extension": ".py",
   "mimetype": "text/x-python",
   "name": "python",
   "nbconvert_exporter": "python",
   "pygments_lexer": "ipython3",
   "version": "3.7.9"
  },
  "orig_nbformat": 4,
  "vscode": {
   "interpreter": {
    "hash": "d49c3f6d6dd49f9272b571d9fad348ab55b8c6c3f691520d74ed0af1f69c3dd8"
   }
  }
 },
 "nbformat": 4,
 "nbformat_minor": 2
}
