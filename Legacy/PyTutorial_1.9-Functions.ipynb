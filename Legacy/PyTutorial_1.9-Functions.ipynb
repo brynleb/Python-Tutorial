{
 "cells": [
  {
   "cell_type": "markdown",
   "metadata": {},
   "source": [
    "# PyTutorial 1.9 - Functions and Lambdas\n",
    "\n",
    "In Python, functions are subroutines that package together several instructions.  \n",
    "The allow us to pass arguments as input and optionally return the value of an object.  \n",
    "The main benefit of function is that they allow us to write code that does not have redundant copies of itself.  \n",
    "It is generally good practice to write code that is as DRY (Don't Repeat Yourself) as possible!"
   ]
  },
  {
   "cell_type": "code",
   "execution_count": null,
   "metadata": {},
   "outputs": [],
   "source": [
    "# To create a function in Python, use the 'def' keyword (which stands for define):\n",
    "def func():\n",
    "\tpass\n",
    "# The pass keyword allows us to create a function with no return value"
   ]
  },
  {
   "cell_type": "code",
   "execution_count": null,
   "metadata": {},
   "outputs": [],
   "source": [
    "# We can print the function definition and its location in memory:\n",
    "print(func)\n",
    "# Note that this does not execute the function\n",
    "\n",
    "# To execute a function we need to include paratheses:\n",
    "print(func())\n",
    "# This function returns 'None' because it has no return value"
   ]
  },
  {
   "cell_type": "code",
   "execution_count": null,
   "metadata": {},
   "outputs": [],
   "source": [
    "# This example function has no return value:\n",
    "def hello_func():\n",
    "\tprint('Hello Function!')\n",
    "\n",
    "hello_func()\n",
    "# Note that since the print statement appears in the function, we don't need one when executing the function."
   ]
  },
  {
   "cell_type": "code",
   "execution_count": null,
   "metadata": {},
   "outputs": [],
   "source": [
    "# We can now execute the function in a different location or execute it several times\n",
    "# without repeating the code within the function:\n",
    "hello_func()\n",
    "hello_func()\n",
    "hello_func()"
   ]
  },
  {
   "cell_type": "markdown",
   "metadata": {},
   "source": [
    "The above example illustrates the benefit of functions and writing DRY code.  \n",
    "If we want to modify a block of code that appears regularly within a larger body of code,  \n",
    "it's usually best to define a function that contains that block in a single location.  \n",
    "This makes modifying that block within a larger project much easier to implement.  "
   ]
  },
  {
   "cell_type": "code",
   "execution_count": null,
   "metadata": {},
   "outputs": [],
   "source": [
    "# This example returns a string:\n",
    "def hello_func():\n",
    "\treturn 'Hello Function!'\n",
    "\n",
    "print(hello_func())\n",
    "# Here, the print statement is needed to display the string returned by the function."
   ]
  },
  {
   "cell_type": "code",
   "execution_count": null,
   "metadata": {},
   "outputs": [],
   "source": [
    "# We can treat functions in the same way as the data type it returns\n",
    "print(type(hello_func()))\n",
    "\n",
    "# For example, we can use the 'len' function to get the number of characters\n",
    "# in the string returned by the function:\n",
    "print(len(hello_func()))\n",
    "\n",
    "# We can also use string methods like 'upper' or 'lower' to change the letter case in the string:\n",
    "print(hello_func().upper())\n",
    "print(hello_func().lower())"
   ]
  },
  {
   "cell_type": "code",
   "execution_count": null,
   "metadata": {},
   "outputs": [],
   "source": [
    "# To pass an argument called 'greeting' to the function:\n",
    "def hello_func(greeting):\n",
    "\treturn '{} Function!'.format(greeting)\n",
    "# Here, greeting is another string that is combined with the returned string."
   ]
  },
  {
   "cell_type": "code",
   "execution_count": null,
   "metadata": {},
   "outputs": [],
   "source": [
    "# Now if we try to execute the function without passing a value for 'greeting', we'll get a error:\n",
    "print(hello_func())\n",
    "# TypeError: hello_func() missing 1 required positional argument: 'greeting'\n",
    "# This is because 'greeting' is now a required argument (it has no default value)"
   ]
  },
  {
   "cell_type": "code",
   "execution_count": null,
   "metadata": {},
   "outputs": [],
   "source": [
    "# Executing the function with a value for greeting:\n",
    "print(hello_func('Hi'))\n",
    "\n",
    "# Note that 'greeting' is a local variable within 'hello_func'. Its value is does not affect variables outside the function.\n",
    "# For example:\n",
    "greeting = 'Hello'\n",
    "print(hello_func('Hi'))\n",
    "print(greeting)\n",
    "# (See Variable Scope in Python for me details)"
   ]
  },
  {
   "cell_type": "code",
   "execution_count": null,
   "metadata": {},
   "outputs": [],
   "source": [
    "# We can also define default values for arguments, which renders them as optional keyword arguments.\n",
    "# To create a 2nd argument with a default value:\n",
    "def hello_func(greeting, name='You'):\n",
    "\treturn '{}, {}'.format(greeting, name)\n",
    "\n",
    "print(hello_func('Hey'))\n",
    "# Since we did not specify a value for 'name', the function used the default value 'You'.\n",
    "print(hello_func('Hey', 'Dude'))\n",
    "# When we specify a value for 'name', the default value is overwritten."
   ]
  },
  {
   "cell_type": "code",
   "execution_count": null,
   "metadata": {},
   "outputs": [],
   "source": [
    "# Note that the required positional arguments must come before the keyword arguments.\n",
    "# If instead we write them out of order:\n",
    "def hello_func(name='You', greeting):\n",
    "\treturn '{}, {}'.format(greeting, name)\n",
    "# We get a SyntaxError: non-default argument follows default argument"
   ]
  },
  {
   "cell_type": "code",
   "execution_count": null,
   "metadata": {},
   "outputs": [],
   "source": [
    "# Python allows us to write functions with an arbitrary number of arguments in a compact form.\n",
    "# For example:\n",
    "def student_info(*args, **kwargs):\n",
    "\tprint(args)\n",
    "\tprint(kwargs)\n",
    "\n",
    "# Here, '*args' allows the function to take an arbitrary number of positional arguments.\n",
    "# '**kwargs' allows the function to take an arbitrary number of key word arguments\n",
    "\n",
    "# In this example, 'args' represents the courses the student is taking and\n",
    "# 'kwargs' are other information about the student.\n",
    "# This format is useful when we don't know how many arguments there will be.\n",
    "student_info('Math', 'Art', name='John', age=22)"
   ]
  },
  {
   "cell_type": "code",
   "execution_count": null,
   "metadata": {},
   "outputs": [],
   "source": [
    "# Another way to do this is to call the function with a list called 'courses'\n",
    "# and a dictionary called 'info' containing the positional and keyword arguments, respectively.\n",
    "# Preceding a list with '*' indicates to Python to unpack the list one element at a time,\n",
    "# and '**' tells Python to unpack the dictionary one key-value pair at a time. \n",
    "def student_info(*args, **kwargs):\n",
    "\tprint(args)\n",
    "\tprint(kwargs)\n",
    "\n",
    "courses = ['Math', 'Art']\n",
    "info = {'name': 'John', 'age': 22}\n",
    "\n",
    "# Executing the function in this way will pass the arguments as in the example above:\n",
    "student_info(*courses, **info)"
   ]
  },
  {
   "cell_type": "code",
   "execution_count": null,
   "metadata": {},
   "outputs": [],
   "source": [
    "# The following example computes the numbers of days in a given month in a given year.\n",
    "# 'month_days' is a list of days in each month. The index corresponds to a given month (0 = Jan, 1 = Feb, etc.)\n",
    "month_days = [31,28,31,30,31,30,31,31,30,31,30,31]\n",
    "\n",
    "# This function returns True if a year is a leap year and False otherwise. It can be read as follows:\n",
    "# if the year is divisible by 4 and (the year is not divisible by 100 or the year is divisible by 400).\n",
    "def is_leap(year):\n",
    "\t\"\"\"Return True for leap years, False for non-leap years\"\"\"\n",
    "\n",
    "\treturn year % 4 == 0 and (year % 100 != 0 or year % 400 == 0)\n",
    "# The string in triple quotes within the function is called a doc-string.\n",
    "# These help document what a function does. It's good practice to use these.\n",
    "\n",
    "# This function takes a year and month as positional arguments and returns the number of days in that month.\n",
    "# If the month is not between 1 and 12, the function returns 'Invalid month'.\n",
    "# If the month is 2 (February) and if the function is_leap(year) is True,\n",
    "# then the function returns 29 for that month.\n",
    "# If neither of these conditions are met, then it returns the element of the list\n",
    "# month_days corresponding to the month (index = month - 1).\n",
    "def days_in_month(year, month):\n",
    "\t\"\"\"Return number of days in that month in that year.\"\"\"\n",
    "\n",
    "\tif not 1 <= month <= 12:\n",
    "\t\treturn 'Invalid month'\n",
    "\tif month == 2 and is_leap(year):\n",
    "\t\treturn 29\n",
    "\n",
    "\treturn month_days[month-1]\n",
    "# Note that functions can make use of objects defined outside their scope (e.g. month_days),\n",
    "# which act like global variables. Variables defined within a function are local variables.\n",
    "\n",
    "year = 2024\n",
    "month = 2\n",
    "print(is_leap(year))\n",
    "print(days_in_month(year,month))"
   ]
  },
  {
   "cell_type": "code",
   "execution_count": null,
   "metadata": {},
   "outputs": [],
   "source": [
    "# We can print this in a more user friendly fashion:\n",
    "year = 2024\n",
    "month = 2\n",
    "month_str = ['Jan','Feb','Mar','Apr','May','Jun','Jul','Aug','Sep','Oct','Nov','Dec']\n",
    "print('Is {} a leap year? {}'.format(year, is_leap(year)))\n",
    "print('Number of days in {} of {}: {}'.format(month_str[month-1], year, days_in_month(year,month)))"
   ]
  },
  {
   "cell_type": "markdown",
   "metadata": {},
   "source": [
    "Python also has a simple way to write mathematical expressions as functions using the 'lambda' keyword.  \n",
    "They are restricted to a single expression, but can have multiple positional arguments.  "
   ]
  },
  {
   "cell_type": "code",
   "execution_count": null,
   "metadata": {},
   "outputs": [],
   "source": [
    "# For example:\n",
    "func = lambda x, y: (x + y)**2\n",
    "print(func(1,2))\n",
    "# A Lambda function object is equivalent to a function object\n",
    "# and can be used wherever function objects are required."
   ]
  }
 ],
 "metadata": {
  "interpreter": {
   "hash": "d49c3f6d6dd49f9272b571d9fad348ab55b8c6c3f691520d74ed0af1f69c3dd8"
  },
  "kernelspec": {
   "display_name": "Python 3.7.9 64-bit",
   "language": "python",
   "name": "python3"
  },
  "language_info": {
   "codemirror_mode": {
    "name": "ipython",
    "version": 3
   },
   "file_extension": ".py",
   "mimetype": "text/x-python",
   "name": "python",
   "nbconvert_exporter": "python",
   "pygments_lexer": "ipython3",
   "version": "3.7.9"
  },
  "orig_nbformat": 4
 },
 "nbformat": 4,
 "nbformat_minor": 2
}
