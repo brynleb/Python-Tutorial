{
 "cells": [
  {
   "cell_type": "markdown",
   "metadata": {},
   "source": [
    "# PyTutorial 1.10 - Importing modules and the standard library\n",
    "\n",
    "In Python, a module is just a file containing some code.  \n",
    "We can import modules into our main body of code using the 'import' command.  \n",
    "When importing a module, Python runs all the code in that file.  \n",
    "Any variables or functions defined in an imported module are available in the calling body of code.  "
   ]
  },
  {
   "cell_type": "code",
   "execution_count": null,
   "metadata": {},
   "outputs": [],
   "source": [
    "# Here, we're importing a custom module called 'MyModule.py' located in the same directory as this Notebook.\n",
    "import MyModule"
   ]
  },
  {
   "cell_type": "markdown",
   "metadata": {},
   "source": [
    "Note that when using VS Code, to import MyModule this way, your workspace folder must be set to the directory containing this notebook.  \n",
    "Otherwise, you must first append to the sys.path variable the path to MyModule relative to the workspace folder.  \n",
    "This can be done using:  \n",
    "> import sys  \n",
    "> sys.path.append(\"relative path to MyModule.py\")  \n",
    "> import MyModule"
   ]
  },
  {
   "cell_type": "code",
   "execution_count": null,
   "metadata": {},
   "outputs": [],
   "source": [
    "# We can now access objects defined within the module. \n",
    "# We must reference the module name:\n",
    "print(MyModule.test)"
   ]
  },
  {
   "cell_type": "code",
   "execution_count": null,
   "metadata": {},
   "outputs": [],
   "source": [
    "courses = ['History', 'Math', 'Physics', 'CompSci']\n",
    "\n",
    "# To execute the function find_index defined in the module:\n",
    "index = MyModule.find_index(courses, 'Physics')\n",
    "print('index =', index)"
   ]
  },
  {
   "cell_type": "code",
   "execution_count": null,
   "metadata": {},
   "outputs": [],
   "source": [
    "# To reduce the length of the module name, we can import the module using an alias, such as 'mm':\n",
    "import MyModule as mm\n",
    "\n",
    "courses = ['History', 'Math', 'Physics', 'CompSci']\n",
    "index = mm.find_index(courses,'Math')\n",
    "print('index =', index)"
   ]
  },
  {
   "cell_type": "code",
   "execution_count": null,
   "metadata": {},
   "outputs": [],
   "source": [
    "# We can also import specific objects from 'MyModule.py'\n",
    "from MyModule import find_index\n",
    "# Since we only imported the function 'find_index', we do not have access to other objects in MyModule (e.g. test)\n",
    "\n",
    "courses = ['History', 'Math', 'Physics', 'CompSci']\n",
    "index = find_index(courses, 'Math')\n",
    "print('index =', index)\n",
    "print(test) # This produces NameError: name 'test' is not defined.\n",
    "# To import test as well, we can add this to the list of imported objects:\n",
    "# from MyModule import find_index, test"
   ]
  },
  {
   "cell_type": "code",
   "execution_count": null,
   "metadata": {},
   "outputs": [],
   "source": [
    "# Now lets import the sys module from the standard library.\n",
    "# This module provides access to some variables used or maintained by the Python interpreter,\n",
    "# as well as functions that interact strongly with the interpreter.\n",
    "import sys"
   ]
  },
  {
   "cell_type": "markdown",
   "metadata": {},
   "source": [
    "When importing modules, Python checks the folders contained within the sys.path variable (a list of directories on your system) in the order that they appear.  \n",
    "First, Python checks your workspace directory.  \n",
    "Next, Python checks the PythonPath environment variable.  \n",
    "Next, Python checks the standard library directories (defined in your system's PATH environment variable).  \n",
    "Finally, Python checks the 'site-packages' directory for third party packages.  "
   ]
  },
  {
   "cell_type": "code",
   "execution_count": null,
   "metadata": {},
   "outputs": [],
   "source": [
    "# We can check these folders by printing out the sys.path variable:\n",
    "print(sys.path)"
   ]
  },
  {
   "cell_type": "markdown",
   "metadata": {},
   "source": [
    "If MyModule.py is not in your workspace directory, it can be appended to sys.path using:  \n",
    "> sys.path.append('path to MyModule')  \n",
    "\n",
    "This path can be absolute, or relative to the workspace directory.  \n",
    "One can also edit the PythonPath variable, but this should be done uniquely for each editor.  "
   ]
  },
  {
   "cell_type": "markdown",
   "metadata": {},
   "source": [
    "## Examples of useful modules in the Python standard library"
   ]
  },
  {
   "cell_type": "code",
   "execution_count": null,
   "metadata": {},
   "outputs": [],
   "source": [
    "# A module containing random variable generators:\n",
    "import random\n",
    "\n",
    "courses = ['History', 'Math', 'Physics', 'CompSci']\n",
    "random_course = random.choice(courses)\n",
    "print(random_course)"
   ]
  },
  {
   "cell_type": "code",
   "execution_count": null,
   "metadata": {},
   "outputs": [],
   "source": [
    "# A module containing mathematical functions defined by the C standard\n",
    "import math\n",
    "\n",
    "pi = math.pi\n",
    "theta_deg = 90.\n",
    "theta_rad = math.radians(theta_deg)\n",
    "sin_theta = math.sin(theta_rad)\n",
    "\n",
    "print('pi        =', pi)\n",
    "print('theta_rad =', theta_rad)\n",
    "print('sin_theta =', sin_theta)"
   ]
  },
  {
   "cell_type": "code",
   "execution_count": null,
   "metadata": {},
   "outputs": [],
   "source": [
    "# A module containing definitions of the datetime class and many date and time functions\n",
    "import datetime\n",
    "# A module containing the calendar class and calendar print functions\n",
    "import calendar\n",
    "\n",
    "today = datetime.date.today()\n",
    "isleap = calendar.isleap(2022)\n",
    "\n",
    "print(today)\n",
    "print(isleap)"
   ]
  },
  {
   "cell_type": "code",
   "execution_count": null,
   "metadata": {},
   "outputs": [],
   "source": [
    "# The os module gives access to your operating system subroutines:\n",
    "import os\n",
    "\n",
    "# Use the 'dir' function to get a list of all methods and attributes available in a given module:\n",
    "print(dir(os))\n",
    "\n",
    "# Get the current working directory:\n",
    "cwd = os.getcwd()\n",
    "print('cwd =', cwd)\n",
    "\n",
    "# Get the location of the Python standard library:\n",
    "stdlibpath = os.__file__\n",
    "print('stdlibpath =', stdlibpath)\n",
    "# We will look at the os module in more detail in later tutorials."
   ]
  },
  {
   "cell_type": "code",
   "execution_count": null,
   "metadata": {},
   "outputs": [],
   "source": [
    "# A joke built into the Python standard library!\n",
    "import antigravity"
   ]
  }
 ],
 "metadata": {
  "interpreter": {
   "hash": "d49c3f6d6dd49f9272b571d9fad348ab55b8c6c3f691520d74ed0af1f69c3dd8"
  },
  "kernelspec": {
   "display_name": "Python 3.7.9 64-bit",
   "language": "python",
   "name": "python3"
  },
  "language_info": {
   "codemirror_mode": {
    "name": "ipython",
    "version": 3
   },
   "file_extension": ".py",
   "mimetype": "text/x-python",
   "name": "python",
   "nbconvert_exporter": "python",
   "pygments_lexer": "ipython3",
   "version": "3.7.9"
  },
  "orig_nbformat": 4
 },
 "nbformat": 4,
 "nbformat_minor": 2
}
