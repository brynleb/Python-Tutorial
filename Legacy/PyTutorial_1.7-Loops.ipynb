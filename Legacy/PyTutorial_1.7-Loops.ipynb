{
 "cells": [
  {
   "cell_type": "markdown",
   "metadata": {},
   "source": [
    "# PyTutorial 1.7 - Loops and iterations\n",
    "\n",
    "There are two ways to create loops in Python: 'for' loops and 'while' loops.  \n",
    "'for' loops should be used when you want to execute a block of code a fixed number of times.  \n",
    "They are always used with an iterable object, such as a list or a range.  \n",
    "'while' loops should be used when a condition needs to be met before exiting the loop, or to create infinite loops.  "
   ]
  },
  {
   "cell_type": "code",
   "execution_count": null,
   "metadata": {},
   "outputs": [],
   "source": [
    "# To construct a simple for loop:\n",
    "nums = [1,2,3,4,5]\n",
    "for item in nums:\n",
    "\tprint(item)"
   ]
  },
  {
   "cell_type": "markdown",
   "metadata": {},
   "source": [
    "The above loop runs through and prints each number in the list.  \n",
    "Its syntax can be understood almost verbatim:  \n",
    "> for (each) item in (the list) nums:  \n",
    ">> print (the) item  \n",
    "\n",
    "Note the indent before the print statement.  \n",
    "Python reads this white space as an indication that this code is part of the for loop.  \n",
    "By default, the print statement will create a new line on each execution.  "
   ]
  },
  {
   "cell_type": "code",
   "execution_count": null,
   "metadata": {},
   "outputs": [],
   "source": [
    "# The iterator variable 'item' is a dummy variable and can be (almost) any string:\n",
    "nums = [1,2,3,4,5]\n",
    "for num in nums:\n",
    "\tprint(num)"
   ]
  },
  {
   "cell_type": "code",
   "execution_count": null,
   "metadata": {},
   "outputs": [],
   "source": [
    "# The list can be any iterable object and can contain non-numerical entries:\n",
    "courses = ['History', 'Math', 'Physics', 'CompSci']\n",
    "for course in courses:\n",
    "\tprint(course)"
   ]
  },
  {
   "cell_type": "code",
   "execution_count": null,
   "metadata": {},
   "outputs": [],
   "source": [
    "# We can also loop through the elements of a dictionary:\n",
    "student = {'name': 'John', 'age': 25, 'courses': ['Math','Physics']}\n",
    "for key in student:\n",
    "\tprint(key)\n",
    "# Note that this only gives us the keys."
   ]
  },
  {
   "cell_type": "code",
   "execution_count": null,
   "metadata": {},
   "outputs": [],
   "source": [
    "# To loop over the key-value pairs we need to use the 'items' method with two iterator variables:\n",
    "student = {'name': 'John', 'age': 25, 'courses': ['Math','Physics']}\n",
    "for key, value in student.items():\n",
    "\tprint(key,':', value)"
   ]
  },
  {
   "cell_type": "code",
   "execution_count": null,
   "metadata": {},
   "outputs": [],
   "source": [
    "# To loop over the indices of a list we can use the 'range' command:\n",
    "courses = ['History', 'Math', 'Physics', 'CompSci']\n",
    "for i in range(len(courses)):\n",
    "\tprint(courses[i])\n",
    "# In this case the index i runs from i = 0, 1, ..., len(courses)-1 = 3\n",
    "# Note that integer iterators always start at zero"
   ]
  },
  {
   "cell_type": "code",
   "execution_count": null,
   "metadata": {},
   "outputs": [],
   "source": [
    "# Sometimes it's useful to have access to both the index and the value of the list.\n",
    "# In this case, we can use the enumerate() function, which returns both:\n",
    "courses = ['History', 'Math', 'Physics', 'CompSci']\n",
    "for index, course in enumerate(courses):\n",
    "\tprint(index, course)"
   ]
  },
  {
   "cell_type": "code",
   "execution_count": null,
   "metadata": {},
   "outputs": [],
   "source": [
    "# By default, enumerate starts at index = 0. To start the index incrementing elsewhere,\n",
    "# we can pass a value to the 'start' keyword of enumerate:\n",
    "courses = ['History', 'Math', 'Physics', 'CompSci']\n",
    "for index, course in enumerate(courses, start=2):\n",
    "\tprint(index, course)"
   ]
  },
  {
   "cell_type": "code",
   "execution_count": null,
   "metadata": {},
   "outputs": [],
   "source": [
    "# To construct nested loops (a loop within a loop):\n",
    "nums = [1,2,3]\n",
    "string = 'abc'\n",
    "for num in nums:\n",
    "\tfor char in string:\n",
    "\t\tprint(num,char)\n",
    "# For each number in nums, this loop will print out the number\n",
    "# with each character in the string 'abc'"
   ]
  },
  {
   "cell_type": "markdown",
   "metadata": {},
   "source": [
    "Two important keywords when working with loops:  \n",
    "- 'break' will exit the loop on a given iteration\n",
    "- 'continue' will move on the next iteration of the loop"
   ]
  },
  {
   "cell_type": "code",
   "execution_count": null,
   "metadata": {},
   "outputs": [],
   "source": [
    "# This loop example uses the 'break' statement:\n",
    "nums = [1,2,3,4,5]\n",
    "for num in nums:\n",
    "\tif num == 3:\n",
    "\t\tprint(num,'found!')\n",
    "\t\tbreak\n",
    "\tprint(num)"
   ]
  },
  {
   "cell_type": "code",
   "execution_count": null,
   "metadata": {},
   "outputs": [],
   "source": [
    "# Here's a similar example using 'continue':\n",
    "nums = [1,2,3,4,5]\n",
    "for num in nums:\n",
    "\tif num == 3:\n",
    "\t\tprint(num,'found!')\n",
    "\t\tcontinue\n",
    "\tprint(num)\n",
    "# Note the difference in behavior compared to 'break', which terminates the loop."
   ]
  },
  {
   "cell_type": "code",
   "execution_count": null,
   "metadata": {},
   "outputs": [],
   "source": [
    "# Note the break will only exit one level of a nested loop:\n",
    "nums = [1,2,3]\n",
    "string = 'abc'\n",
    "for num in nums:\n",
    "\tfor char in string:\n",
    "\t\tif num == 2 and char == 'a':\n",
    "\t\t\tprint(num,char,'found!')\n",
    "\t\t\tbreak\n",
    "\t\tprint(num,char)"
   ]
  },
  {
   "cell_type": "code",
   "execution_count": null,
   "metadata": {},
   "outputs": [],
   "source": [
    "# Two break statements are required to terminate a double loop:\n",
    "nums = [1,2,3]\n",
    "string = 'abc'\n",
    "for num in nums:\n",
    "\tfor char in string:\n",
    "\t\tif num == 2 and char == 'a':\n",
    "\t\t\tbreak\n",
    "\t\tprint(num,char)\n",
    "\tif num == 2 and char == 'a':\n",
    "\t\tprint(num,char,'found!')\n",
    "\t\tbreak"
   ]
  },
  {
   "cell_type": "code",
   "execution_count": null,
   "metadata": {},
   "outputs": [],
   "source": [
    "# For loops will loop over a predefined list of values.\n",
    "# While loops will continue until a condition is met:\n",
    "x = 0\n",
    "while x <= 5:\n",
    "\tprint(x)\n",
    "\tx += 1\n",
    "# Note that the loop will execute only if the condition is True"
   ]
  },
  {
   "cell_type": "code",
   "execution_count": null,
   "metadata": {},
   "outputs": [],
   "source": [
    "# Break statements can also be used in the while loops:\n",
    "x = 0\n",
    "while x <= 5:\n",
    "\tprint(x)\n",
    "\tif x == 3:\n",
    "\t\tbreak\n",
    "\tx += 1\t"
   ]
  },
  {
   "cell_type": "code",
   "execution_count": null,
   "metadata": {},
   "outputs": [],
   "source": [
    "# Example of an infinite loop with a break statement:\n",
    "x = 0\n",
    "while True:\n",
    "\tprint(x)\n",
    "\tif x == 3:\n",
    "\t\tbreak\n",
    "\tx += 1"
   ]
  },
  {
   "cell_type": "markdown",
   "metadata": {},
   "source": [
    "**To terminate Python from an infinite loop**:  \n",
    "- use 'Ctrl-C' if running from a terminal\n",
    "- use 'Ctrl-Alt-M' if running a script in VS Code\n",
    "- select 'Interrupt' from the menu bar if running a Notebook in VS Code"
   ]
  }
 ],
 "metadata": {
  "interpreter": {
   "hash": "d49c3f6d6dd49f9272b571d9fad348ab55b8c6c3f691520d74ed0af1f69c3dd8"
  },
  "kernelspec": {
   "display_name": "Python 3.7.9 64-bit",
   "language": "python",
   "name": "python3"
  },
  "language_info": {
   "codemirror_mode": {
    "name": "ipython",
    "version": 3
   },
   "file_extension": ".py",
   "mimetype": "text/x-python",
   "name": "python",
   "nbconvert_exporter": "python",
   "pygments_lexer": "ipython3",
   "version": "3.7.9"
  },
  "orig_nbformat": 4
 },
 "nbformat": 4,
 "nbformat_minor": 2
}
