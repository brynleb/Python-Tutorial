{
 "cells": [
  {
   "cell_type": "markdown",
   "metadata": {},
   "source": [
    "# PyTutorial 1.5 - Dictionaries\n",
    "\n",
    "Dictionaries allow us to work with key-value pairs in the form '{key: value}'.  \n",
    "In other languages these are called 'hashmaps' or 'associative arrays'.  \n",
    "A key is a unique identifier that references a particular value.  \n",
    "Keys are typically strings, but can also be integers or floats.  \n",
    "Values can be any mutable object."
   ]
  },
  {
   "cell_type": "code",
   "execution_count": null,
   "metadata": {},
   "outputs": [],
   "source": [
    "# Dictionaries are defined with curly brackets:\n",
    "d = {'name': 'John', 'age': 25, 'courses': ['Math', 'Physics'], 1: 'one', 3.14: 'pi'}\n",
    "print(d)\n",
    "\n",
    "# We can access particular values by passing the corresponding key in square brackets:\n",
    "print(d['name'])\n",
    "print(d['age'])\n",
    "print(d['courses'])\n",
    "print(d[1])\n",
    "print(d[3.14])"
   ]
  },
  {
   "cell_type": "code",
   "execution_count": null,
   "metadata": {},
   "outputs": [],
   "source": [
    "# To access values, we can also use the dictionary method 'get':\n",
    "student = {'name': 'John', 'age': 25, 'courses': ['Math', 'Physics']}\n",
    "print(student.get('name'))\n",
    "\n",
    "# If we try to get the value of a key that doesn't exist in the dictionary, we get a key error:\n",
    "print(student['phone'])"
   ]
  },
  {
   "cell_type": "code",
   "execution_count": null,
   "metadata": {},
   "outputs": [],
   "source": [
    "# Instead of an error, using 'get' with a key that doesn't exist will return 'None' by default\n",
    "print(student.get('phone'))\n",
    " \n",
    "# We can also specify what value get will return if the key doesn't exist:\n",
    "print(student.get('phone', 'Key not found'))"
   ]
  },
  {
   "cell_type": "code",
   "execution_count": null,
   "metadata": {},
   "outputs": [],
   "source": [
    "# To add a value to a dictionary or to update an existing value,\n",
    "# we simply assign a new value to that key:\n",
    "student = {'name': 'John', 'age': 25, 'courses': ['Math','Physics']}\n",
    "student['name'] = 'Jane'\n",
    "student['phone'] = '555-5555'\n",
    "print(student)\n",
    "\n",
    "# We can update multiple values at a time with the 'update' method:\n",
    "student.update({'age': 39, 'phone': '443-9243'})\n",
    "print(student)"
   ]
  },
  {
   "cell_type": "code",
   "execution_count": null,
   "metadata": {},
   "outputs": [],
   "source": [
    "# To delete elements from a dictionary we can use the 'del' keyword\n",
    "student = {'name': 'John', 'age': 25, 'courses': ['Math','Physics']}\n",
    "del student['age']\n",
    "print(student)\n",
    "\n",
    "# We can also remove elements with the 'pop' method, but remember that pop returns that value:\n",
    "courses = student.pop('courses')\n",
    "print(courses)\n",
    "print(student)"
   ]
  },
  {
   "cell_type": "code",
   "execution_count": null,
   "metadata": {},
   "outputs": [],
   "source": [
    "# To access the length of a dictionary, we can use the len() function: \n",
    "student = {'name': 'John', 'age': 25, 'courses': ['Math','Physics']}\n",
    "print(len(student))\n",
    "\n",
    "# To access all the keys or values, use the 'keys' or 'values' methods:\n",
    "print(student.keys())\n",
    "print(student.values())\n",
    "\n",
    "# To access the key-value pairs, use the 'items' method:\n",
    "print(student.items())"
   ]
  },
  {
   "cell_type": "code",
   "execution_count": null,
   "metadata": {},
   "outputs": [],
   "source": [
    "# Note that each of these methods returns a specific data type: 'dict_keys', 'dict_values', 'dict_items'\n",
    "# These data types are not subscriptable (we can't use the square brackets to access their elements)\n",
    "# This will result in a TypeError: 'dict_keys' object is not subscriptable\n",
    "print(student.keys()[0])"
   ]
  },
  {
   "cell_type": "code",
   "execution_count": null,
   "metadata": {},
   "outputs": [],
   "source": [
    "# Instead, we can convert these into a list using the list() function:\n",
    "keys = list(student.keys())\n",
    "values = list(student.values())\n",
    "items = list(student.items())\n",
    "print(keys)\n",
    "print(values)\n",
    "print(items)\n",
    "print(keys[0])\n",
    "print(values[0])\n",
    "print(items[0])\n",
    "print(items[0][1])"
   ]
  }
 ],
 "metadata": {
  "interpreter": {
   "hash": "d49c3f6d6dd49f9272b571d9fad348ab55b8c6c3f691520d74ed0af1f69c3dd8"
  },
  "kernelspec": {
   "display_name": "Python 3.7.9 64-bit",
   "language": "python",
   "name": "python3"
  },
  "language_info": {
   "codemirror_mode": {
    "name": "ipython",
    "version": 3
   },
   "file_extension": ".py",
   "mimetype": "text/x-python",
   "name": "python",
   "nbconvert_exporter": "python",
   "pygments_lexer": "ipython3",
   "version": "3.7.9"
  },
  "orig_nbformat": 4
 },
 "nbformat": 4,
 "nbformat_minor": 2
}
