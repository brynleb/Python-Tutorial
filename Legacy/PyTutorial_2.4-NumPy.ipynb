{
 "cells": [
  {
   "cell_type": "markdown",
   "metadata": {},
   "source": [
    "# PyTutorial 2.4 - Using the NumPy package \n",
    "\n",
    "NumPy (Numerical Python) is an open source Python library that’s used in almost every field of science and engineering. It is the universal standard for working with numerical data in Python. NumPy is used extensively in Pandas, SciPy, Matplotlib, and most other data science and scientific Python packages.\n",
    "\n",
    "The NumPy library contains multidimensional array and matrix data structures. It provides ndarray, a homogeneous n-dimensional array object, with methods to efficiently operate on it. NumPy can be used to perform a wide variety of mathematical operations on arrays. It adds powerful data structures to Python that guarantee efficient calculations with arrays and matrices and it supplies an enormous library of high-level mathematical functions that operate on these arrays and matrices, including mathematical, logical, shape manipulation, sorting, selecting, discrete Fourier transforms, basic linear algebra, basic statistical operations, and random number simulation.\n",
    "\n",
    "NumPy doesn’t depend on any other Python packages, however, it does depend on an accelerated linear algebra library. The only prerequisite for installing NumPy is Python itself. To install numpy, from a command prompt simply type:\n",
    "\"pip install numpy\""
   ]
  },
  {
   "cell_type": "code",
   "execution_count": null,
   "metadata": {},
   "outputs": [],
   "source": [
    "# To access NumPy and its functions, the package must be imported in your Python code:\n",
    "import numpy as np"
   ]
  },
  {
   "cell_type": "markdown",
   "metadata": {},
   "source": [
    "A central object within the NumPy library is the numpy array. They are similar to\n",
    "Python lists: they contain a grid of elements with corresponding indices. However,\n",
    "unlike lists, all elements are of the same data type (referred to as dtype). This\n",
    "allows NumPy arrays to consume less memory and run much faster than Python lists.\n",
    "NumPy arrays can also be multidimensional (analogous to a tensor with rank > 1)."
   ]
  },
  {
   "cell_type": "code",
   "execution_count": null,
   "metadata": {},
   "outputs": [],
   "source": [
    "# The following examples illustrate the similaries and differences between lists and NumPy arrays:\n",
    "l = [1,2,3,4,5,6,7,8,9,10]\n",
    "a = np.array([1,2,3,4,5,6,7,8,9,10])\n",
    "print(l)\n",
    "print(type(l))\n",
    "print(a)\n",
    "print(type(a))"
   ]
  },
  {
   "cell_type": "code",
   "execution_count": null,
   "metadata": {},
   "outputs": [],
   "source": [
    "# NumPy arrays can be used with the 'len' command: \n",
    "print(len(a))\n",
    "# Similar to 'len()', the 'size' attribute returns the total number of elements in the array:\n",
    "print(a.size)\n",
    "# The 'ndim' attribute returns to number of dimensions (or axes) in an array:\n",
    "print(a.ndim)\n",
    "# The 'shape' attribute returns a tuple of integers giving the size of each array dimension:\n",
    "print(a.shape)\n",
    "# Slicing 1D arrays is the same as for '1D' lists:\n",
    "print(a[1:5])\n",
    "print(a[::-1])\n"
   ]
  },
  {
   "cell_type": "code",
   "execution_count": null,
   "metadata": {},
   "outputs": [],
   "source": [
    "# Adding two lists concatenates them together regardless of their dimensions.\n",
    "# NumPy arrays are added element-by-element, hence only arrays of the same dimensions can be added together\n",
    "l = [1,2,3,4,5]\n",
    "m = [6,7,8,9,10]\n",
    "a = np.array([1,2,3,4,5])\n",
    "b = np.array([6,7,8,9,10])\n",
    "print(l + m)\n",
    "print(a + b)"
   ]
  },
  {
   "cell_type": "code",
   "execution_count": null,
   "metadata": {},
   "outputs": [],
   "source": [
    "# There are several ways to create/initialize a NumPy arrays.\n",
    "# Pass a list to a NumPy array:\n",
    "a = np.array([1,2])\n",
    "print('a = ',a)\n",
    "# Create an array of length n = 3 filled with zeros:\n",
    "b = np.zeros(3)\n",
    "print('b = ',b)\n",
    "# Create an array filled with ones:\n",
    "c = np.ones(4)\n",
    "print('c = ',c)\n",
    "# The default data type of an array is np.float64 (64-bit floating point number)\n",
    "# The data type can be explicitly specified using the dtype keyword:\n",
    "c = np.ones(4, dtype=np.int64)\n",
    "print('c = ',c)\n",
    "# Create an array filled with an arbitrary value:\n",
    "d = np.full(5, 2.9979E8)\n",
    "print('d = ',d)\n",
    "# Initialize an empty array (memory space is allocated, but values are assigned randomly):\n",
    "e = np.empty(6)\n",
    "print('e = ',e)\n",
    "# Create an array with a range of values from 1.0 to 5.0 in steps of 0.5 (note the last value is non-inclusive):\n",
    "f = np.arange(1., 5., 0.5)\n",
    "print('f = ',f)\n",
    "# Create an array of equally-space values from 1.0 to 5.0 with 9 points (note the difference with np.arange()):\n",
    "g = np.linspace(1., 5., 9)\n",
    "print('g = ',g)"
   ]
  },
  {
   "cell_type": "code",
   "execution_count": null,
   "metadata": {},
   "outputs": [],
   "source": [
    "# Creating a 2D array is similar to a nested '2D' list:\n",
    "l = [[0,1,2], [3,4,5], [6,7,8]]\n",
    "a = np.array([[0,1,2], [3,4,5], [6,7,8]])\n",
    "print(l)\n",
    "print(a)\n",
    "\n",
    "# Indexing elements of a 2D NumPy array is different from a 2D list:\n",
    "print(l[1][2])\n",
    "print(a[1,2])"
   ]
  },
  {
   "cell_type": "code",
   "execution_count": null,
   "metadata": {},
   "outputs": [],
   "source": [
    "# NumPy arrays can be concatenated by using 'concatenate()', which returns a new array:\n",
    "a = np.array([1,2,3,4])\n",
    "b = np.array([11,12,13])\n",
    "c = np.concatenate((a, b))\n",
    "print(c)"
   ]
  },
  {
   "cell_type": "code",
   "execution_count": null,
   "metadata": {},
   "outputs": [],
   "source": [
    "# 2D arrays can also be concatenated along different axes:\n",
    "x = np.array([[1, 2], [3, 4]])\n",
    "y = np.array([[5, 6], [7, 8]])\n",
    "z0 = np.concatenate((x, y), axis=0)\n",
    "z1 = np.concatenate((x, y), axis=1)\n",
    "print(z0)\n",
    "print(z1)"
   ]
  },
  {
   "cell_type": "code",
   "execution_count": null,
   "metadata": {},
   "outputs": [],
   "source": [
    "# Use 'sort' to sort an array in ascending order:\n",
    "a = np.array([0, 2, 4, 6, 8, 9, 5, 7, 2, 3, 1])\n",
    "s = np.sort(a)\n",
    "print(s)\n",
    "# To sort in descending order:\n",
    "d = s[::-1]\n",
    "print(d)"
   ]
  },
  {
   "cell_type": "code",
   "execution_count": null,
   "metadata": {},
   "outputs": [],
   "source": [
    "# Selecting specific values or filtering out values from a NumPy array is easy.\n",
    "# By evaluating the conditional expression a < 5, we can create an array of Boolean values\n",
    "# (called mask) whose values are True when this condition is satisfied:\n",
    "a = np.array([[1, 2, 3, 4], [5, 6, 7, 8], [9, 10, 11, 12]])\n",
    "mask = a < 5\n",
    "print(mask)\n",
    "# To print all the values in the array less than 5:\n",
    "print(a[mask])\n",
    "\n",
    "# Similarly, to select all elements that are greater than 5 and divisible by 2:\n",
    "mask = (a > 5) & (a%2 == 0)\n",
    "print(mask)\n",
    "print(a[mask])"
   ]
  },
  {
   "cell_type": "code",
   "execution_count": null,
   "metadata": {},
   "outputs": [],
   "source": [
    "# Be aware that by default arrays are passed by reference (memory location), not by value.\n",
    "# For example, we have two arrays 'a' and 'b', where 'b' is assigned to a slice of 'a':\n",
    "a = np.array([[1, 2, 3, 4], [5, 6, 7, 8], [9, 10, 11, 12]])\n",
    "b = a[0,:]\n",
    "print(a)\n",
    "print(b)\n",
    "# If we modify the elements of 'b', the corresponding elements of 'a' also change:\n",
    "b[1] = -2\n",
    "print(b)\n",
    "print(a)\n",
    "# This is because 'b' occupies the same location in memory as 'a'.\n",
    "# To explicitly pass an array by value, use the 'copy' method:\n",
    "a = np.array([[1, 2, 3, 4], [5, 6, 7, 8], [9, 10, 11, 12]])\n",
    "b = a[0,:].copy()\n",
    "b[1] = -2\n",
    "print(b)\n",
    "print(a)"
   ]
  },
  {
   "cell_type": "markdown",
   "metadata": {},
   "source": [
    "A powerful feature of NumPy arrays is that they can be used with arithmetic operations. In addition, basic mathematical functions (trigonometric, exponential, logarithmic) and common statistical functions are available as well."
   ]
  },
  {
   "cell_type": "code",
   "execution_count": null,
   "metadata": {},
   "outputs": [],
   "source": [
    "# Two arrays of the same shape can be added, subtract, multiplied, or divided on an element-by-element basis:\n",
    "x = np.array([[0., 1., 2.], [1., 2., 4.]])\n",
    "y = np.array([[1., 1., 1.], [2., 2., 2.]])\n",
    "print('x + y =',x+y)\n",
    "print('x - y =',x-y)\n",
    "print('x * y =',x*y)\n",
    "print('x / y =',x/y)"
   ]
  },
  {
   "cell_type": "code",
   "execution_count": null,
   "metadata": {},
   "outputs": [],
   "source": [
    "# Arrays can also be multiplied by a scalar.\n",
    "# Again, NumPy 'broadcasts' the multiplication one element at a time:\n",
    "x = np.array([[0., 1., 2.], [1., 2., 4.]])\n",
    "c = 3.\n",
    "print(c*x)\n",
    "# Note that the dimensions of the two objects being operated on must be compatible\n",
    "# (i.e. they have the same dimensions, or one of them has dimension = 1).\n",
    "# Otherwise, Python produces a ValueError."
   ]
  },
  {
   "cell_type": "code",
   "execution_count": null,
   "metadata": {},
   "outputs": [],
   "source": [
    "# To find the min, max, or sum of all array elements:\n",
    "a = np.array([[0., 1., 2., 3.], [1., 2., 4., 6.], [3., 6., 9., 12.]])\n",
    "print(' min = ', a.min())\n",
    "print(' max = ', a.max())\n",
    "print(' sum = ', a.sum())\n",
    "# Similarly, the mean, product or standard deviation of elements:\n",
    "print('mean = ', a.mean())\n",
    "print('prod = ', a.prod())\n",
    "print(' std = ', a.std())\n",
    "# These operations can also be performed along a specific axis:\n",
    "print('min(ax=1) = ', a.min(axis=1))\n",
    "print('max(ax=1) = ', a.max(axis=1))\n",
    "print('sum(ax=1) = ', a.sum(axis=1))"
   ]
  },
  {
   "cell_type": "code",
   "execution_count": null,
   "metadata": {},
   "outputs": [],
   "source": [
    "# NumPy also has basic math functions that can operate on arrays. \n",
    "# These include trigonometric functions, hyperbolic functions, exponential and\n",
    "# logarithmic functions, truncation and rounding functions, and some special functions.\n",
    "# See https://numpy.org/doc/stable/reference/routines.math.html for a complete list.\n",
    "# Similarly, NumPy has several built-in numerical constants, such as 'pi', 'e', 'nan', 'inf'.\n",
    "# See https://numpy.org/doc/stable/reference/constants.html for a complete list.\n",
    "x = np.linspace(0, 2*np.pi, 11)\n",
    "sin = np.sin(x)\n",
    "cos = np.cos(x)\n",
    "one = sin**2 + cos**2\n",
    "print('  x = ', x)\n",
    "print('sin = ', sin)\n",
    "print('cos = ', cos)\n",
    "print('one = ', one)"
   ]
  },
  {
   "cell_type": "code",
   "execution_count": null,
   "metadata": {},
   "outputs": [],
   "source": [
    "# To reshape an array, use the reshape method and pass in the new array dimensions.\n",
    "# Note that the product of the dimensions must remain the same.\n",
    "a = np.array([1,2,3,4,5,6,7,8,9,10,11,12])\n",
    "b = a.reshape(6,2)\n",
    "c = b.reshape(3,4)\n",
    "print(a)\n",
    "print(b)\n",
    "print(c)"
   ]
  },
  {
   "cell_type": "code",
   "execution_count": null,
   "metadata": {},
   "outputs": [],
   "source": [
    "# To transpose the axes of an array:\n",
    "a = np.array([[1,2], [3,4], [5,6]])\n",
    "b = a.transpose() # one can also use a.T\n",
    "print(a)\n",
    "print(b)"
   ]
  },
  {
   "cell_type": "code",
   "execution_count": null,
   "metadata": {},
   "outputs": [],
   "source": [
    "# To flatten a multidimensional array:\n",
    "a = np.array([[1,2,3,4], [5,6,7,8], [9,10,11,12]])\n",
    "b = a.flatten()\n",
    "print(a)\n",
    "print(b)"
   ]
  }
 ],
 "metadata": {
  "interpreter": {
   "hash": "d49c3f6d6dd49f9272b571d9fad348ab55b8c6c3f691520d74ed0af1f69c3dd8"
  },
  "kernelspec": {
   "display_name": "Python 3.7.9 64-bit",
   "language": "python",
   "name": "python3"
  },
  "language_info": {
   "codemirror_mode": {
    "name": "ipython",
    "version": 3
   },
   "file_extension": ".py",
   "mimetype": "text/x-python",
   "name": "python",
   "nbconvert_exporter": "python",
   "pygments_lexer": "ipython3",
   "version": "3.7.9"
  },
  "orig_nbformat": 4
 },
 "nbformat": 4,
 "nbformat_minor": 2
}
