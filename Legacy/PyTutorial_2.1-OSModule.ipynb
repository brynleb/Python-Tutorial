{
 "cells": [
  {
   "cell_type": "markdown",
   "metadata": {},
   "source": [
    "# PyTutorial 2.1 - Using the OS module\n",
    "\n",
    "The OS module allows us to interact with the underlying operation system is several ways.  \n",
    "It can be used to navigate the file system, get file information, create/move/delete files and folders,  \n",
    "change environment variables, etc."
   ]
  },
  {
   "cell_type": "code",
   "execution_count": null,
   "metadata": {},
   "outputs": [],
   "source": [
    "# To access the OS module, it must be imported:\n",
    "import os"
   ]
  },
  {
   "cell_type": "code",
   "execution_count": null,
   "metadata": {},
   "outputs": [],
   "source": [
    "# To get the current working directory (cwd):\n",
    "cwd = os.getcwd()\n",
    "print(cwd)"
   ]
  },
  {
   "cell_type": "code",
   "execution_count": null,
   "metadata": {},
   "outputs": [],
   "source": [
    "# To change the back one level:\n",
    "os.chdir('..')\n",
    "print(os.getcwd())\n",
    "\n",
    "# Lets change the directory back to the original cwd\n",
    "os.chdir(cwd)\n",
    "print(os.getcwd())"
   ]
  },
  {
   "cell_type": "code",
   "execution_count": null,
   "metadata": {},
   "outputs": [],
   "source": [
    "# To list the contents of a directory:\n",
    "print(os.listdir())"
   ]
  },
  {
   "cell_type": "code",
   "execution_count": null,
   "metadata": {},
   "outputs": [],
   "source": [
    "# To create a new directory within the cwd:\n",
    "os.mkdir('Example-Dir')\n",
    "print(os.listdir())\n",
    "# Note that the 'mkdir' method can create only a single directory level."
   ]
  },
  {
   "cell_type": "code",
   "execution_count": null,
   "metadata": {},
   "outputs": [],
   "source": [
    "# Alternatively, the 'makedirs' method creates all directory sub levels.\n",
    "os.makedirs('Example-Dir\\\\Sub-Dir', exist_ok=True)\n",
    "print(os.listdir())"
   ]
  },
  {
   "cell_type": "code",
   "execution_count": null,
   "metadata": {},
   "outputs": [],
   "source": [
    "os.makedirs('Example-Dir\\\\Sub-Dir', exist_ok=True)\n",
    "# To remove directories:\n",
    "os.rmdir('Example-Dir\\\\Sub-Dir')\n",
    "print(os.listdir())\n",
    "# Note that 'rmdir' will only remove the specified directory if it has no sub-directories."
   ]
  },
  {
   "cell_type": "code",
   "execution_count": null,
   "metadata": {},
   "outputs": [],
   "source": [
    "os.makedirs('Example-Dir\\\\Sub-Dir', exist_ok=True)\n",
    "# Alternatively, 'removedirs' will remove the leaf directory and all intermediate ones:\n",
    "os.removedirs('Example-Dir\\\\Sub-Dir')\n",
    "print(os.listdir())"
   ]
  },
  {
   "cell_type": "code",
   "execution_count": null,
   "metadata": {},
   "outputs": [],
   "source": [
    "# To rename a file:\n",
    "os.rename('Test.txt', 'Demo.txt')\n",
    "print(os.listdir())\n",
    "# Return to the original name:\n",
    "os.rename('Demo.txt', 'Test.txt')"
   ]
  },
  {
   "cell_type": "markdown",
   "metadata": {},
   "source": [
    "To join several paths together, use the **'join'** method of os.path.  \n",
    "This function automatically accounts for the presence or absence of slashes, and returns the path of the new file or folder."
   ]
  },
  {
   "cell_type": "code",
   "execution_count": null,
   "metadata": {},
   "outputs": [],
   "source": [
    "# This example creates a path to the directory 'Example-Dir' in the cwd\n",
    "new_dir = os.path.join(os.getcwd(), 'Example-Dir')\n",
    "print(new_dir)\n",
    "\n",
    "# This example creates a path to a new file path called 'Test.txt' in new_dir:\n",
    "new_file = os.path.join(new_dir, 'Test.txt')\n",
    "print(new_file)"
   ]
  },
  {
   "cell_type": "code",
   "execution_count": null,
   "metadata": {},
   "outputs": [],
   "source": [
    "# To check if a path exists, and if it corresponds to a file or directory:\n",
    "print('new_dir exists =', os.path.exists(new_dir))\n",
    "print('new_dir is a directory =', os.path.isdir(new_dir))\n",
    "print('new_dir is a file =', os.path.isfile(new_dir))"
   ]
  },
  {
   "cell_type": "code",
   "execution_count": null,
   "metadata": {},
   "outputs": [],
   "source": [
    "# Attempting to create a directory that already exists will produce a FileExistsError:\n",
    "os.mkdir(new_dir)"
   ]
  },
  {
   "cell_type": "code",
   "execution_count": null,
   "metadata": {},
   "outputs": [],
   "source": [
    "# These tests can be used to conditionally create the directory if it does not already exist: \n",
    "if not os.path.exists(new_dir):\n",
    "\tos.mkdir(new_dir)\n",
    "\n",
    "print('new_dir exists =', os.path.exists(new_dir))"
   ]
  },
  {
   "cell_type": "code",
   "execution_count": null,
   "metadata": {},
   "outputs": [],
   "source": [
    "# Or to remove a directory if it does exist:\n",
    "if os.path.exists(new_dir):\n",
    "\tos.rmdir(new_dir)\n",
    "\n",
    "print('new_dir exists =', os.path.exists(new_dir))"
   ]
  },
  {
   "cell_type": "code",
   "execution_count": null,
   "metadata": {},
   "outputs": [],
   "source": [
    "# Some useful methods for getting the path directory name, basename, filename and file extension:\n",
    "path = 'Example-Dir\\\\Test.txt'\n",
    "print('dirname  =', os.path.dirname(path))\n",
    "print('basename =', os.path.basename(path))\n",
    "print('split    =', os.path.split(path))\n",
    "print('splitext =', os.path.splitext(path))"
   ]
  }
 ],
 "metadata": {
  "kernelspec": {
   "display_name": "Python 3.7.9 64-bit",
   "language": "python",
   "name": "python3"
  },
  "language_info": {
   "codemirror_mode": {
    "name": "ipython",
    "version": 3
   },
   "file_extension": ".py",
   "mimetype": "text/x-python",
   "name": "python",
   "nbconvert_exporter": "python",
   "pygments_lexer": "ipython3",
   "version": "3.7.9"
  },
  "orig_nbformat": 4,
  "vscode": {
   "interpreter": {
    "hash": "d49c3f6d6dd49f9272b571d9fad348ab55b8c6c3f691520d74ed0af1f69c3dd8"
   }
  }
 },
 "nbformat": 4,
 "nbformat_minor": 2
}
