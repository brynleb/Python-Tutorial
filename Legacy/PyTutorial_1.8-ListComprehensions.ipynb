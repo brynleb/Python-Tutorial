{
 "cells": [
  {
   "cell_type": "markdown",
   "metadata": {},
   "source": [
    "# PyTutorial 1.8 - List Comprehensions\n",
    "\n",
    "Python allows us to generate lists is several ways.  \n",
    "For example, we can generate a list using a For loop or a While loop, however both use several lines of code.  \n",
    "A list comprehension is a simple and elegant way to create a list in a single line."
   ]
  },
  {
   "cell_type": "code",
   "execution_count": null,
   "metadata": {},
   "outputs": [],
   "source": [
    "# Here we create an empty list 'my_list' and fill it with elements\n",
    "# equal to '2*n' for each 'n' in the existing list 'nums':\n",
    "nums = [1,2,3,4,5,6,7,8,9,10]\n",
    "my_list = []\n",
    "for n in nums:\n",
    "\tmy_list.append(2*n)\n",
    "print(my_list)"
   ]
  },
  {
   "cell_type": "code",
   "execution_count": null,
   "metadata": {},
   "outputs": [],
   "source": [
    "# A list comprehension is a much simpler way to create a list.\n",
    "# We can achieve the same result as above using one line of code:\n",
    "nums = [1,2,3,4,5,6,7,8,9,10]\n",
    "my_list = [2*n for n in nums]\n",
    "print(my_list)"
   ]
  },
  {
   "cell_type": "code",
   "execution_count": null,
   "metadata": {},
   "outputs": [],
   "source": [
    "# Note that if we simply multiply new_list by 2, this does not achieve the same result:\n",
    "nums = [1,2,3,4,5,6,7,8,9,10]\n",
    "my_list = 2*nums\n",
    "print(my_list)\n"
   ]
  },
  {
   "cell_type": "markdown",
   "metadata": {},
   "source": [
    "As you can see above, multiplying a list by an integer 'm' simply concatenates that list with itself 'm' times.  \n",
    "If we try to multiply by a float, we get an error because floating-point multiplication is not defined for lists:  \n",
    "- TypeError: can't multiply sequence by non-int of type 'float'  \n",
    "\n",
    "However, we can do this with NumPy arrays, as we'll see later.  "
   ]
  },
  {
   "cell_type": "code",
   "execution_count": null,
   "metadata": {},
   "outputs": [],
   "source": [
    "# Here's a slightly more complicated example with a for loop.\n",
    "# Suppose we want my_list to contain 'n*n' for each 'n' in 'nums', but only if 'n' is even:\n",
    "nums = [1,2,3,4,5,6,7,8,9,10]\n",
    "my_list = []\n",
    "for n in nums:\n",
    "\tif n % 2 == 0:\n",
    "\t\tmy_list.append(n*n)\n",
    "print(my_list)"
   ]
  },
  {
   "cell_type": "code",
   "execution_count": null,
   "metadata": {},
   "outputs": [],
   "source": [
    "# Here the same example with a list comprehension:\n",
    "nums = [1,2,3,4,5,6,7,8,9,10]\n",
    "my_list = [n*n for n in nums if n%2 == 0]\n",
    "print(my_list)"
   ]
  },
  {
   "cell_type": "code",
   "execution_count": null,
   "metadata": {},
   "outputs": [],
   "source": [
    "# Suppose we want a (letter,num) pair for each letter in 'abcd' and each number in '0123':\n",
    "my_list = []\n",
    "for letter in 'abcd':\n",
    "\tfor num in range(4):\n",
    "\t\tmy_list.append((letter,num))\n",
    "print(my_list)"
   ]
  },
  {
   "cell_type": "code",
   "execution_count": null,
   "metadata": {},
   "outputs": [],
   "source": [
    "# With a list comprehension:\n",
    "my_list = [(letter, num) for letter in 'abcd' for num in range(4)]\n",
    "print(my_list)"
   ]
  },
  {
   "cell_type": "code",
   "execution_count": null,
   "metadata": {},
   "outputs": [],
   "source": [
    "# Suppose we want a dictionary with the format {'name':'hero'}:\n",
    "# That is, each name is a key and each hero is the corresponding value.\n",
    "# Here, we use zip(names,heroes), which transposes the two lists and returns a list of tuples.\n",
    "names = ['Bruce', 'Clark', 'Peter', 'Logan', 'Wade']\n",
    "heroes = ['Batman', 'Superman', 'Spiderman', 'Wolverine', 'Deadpool']\n",
    "my_dict = {}\n",
    "for name, hero in zip(names,heroes):\n",
    "\tmy_dict[name] = hero\n",
    "print(my_dict)"
   ]
  },
  {
   "cell_type": "code",
   "execution_count": null,
   "metadata": {},
   "outputs": [],
   "source": [
    "# We can also do comprehensions with dictionaries (dictionary comprehensions):\n",
    "names = ['Bruce', 'Clark', 'Peter', 'Logan', 'Wade']\n",
    "heroes = ['Batman', 'Superman', 'Spiderman', 'Wolverine', 'Deadpool']\n",
    "my_dict = {name: hero for name, hero in zip(names,heroes)}\n",
    "print(my_dict)"
   ]
  },
  {
   "cell_type": "code",
   "execution_count": null,
   "metadata": {},
   "outputs": [],
   "source": [
    "# Here is the same example with the condition: if 'name' not equal to 'Peter'\n",
    "names = ['Bruce', 'Clark', 'Peter', 'Logan', 'Wade']\n",
    "heroes = ['Batman', 'Superman', 'Spiderman', 'Wolverine', 'Deadpool']\n",
    "my_dict = {name: hero for name, hero in zip(names,heroes) if name != 'Peter'}\n",
    "print(my_dict)\n",
    "# Note the use of curly brackets and colons for dictionary comprehensions!"
   ]
  },
  {
   "cell_type": "code",
   "execution_count": null,
   "metadata": {},
   "outputs": [],
   "source": [
    "# Here's an example of creating a set with a for loop:\n",
    "nums = [1,1,2,3,1,4,5,4,6,6,7,8,2,8,9,10,10]\n",
    "my_set = set()\n",
    "for n in nums:\n",
    "\tmy_set.add(n)\n",
    "print(my_set)"
   ]
  },
  {
   "cell_type": "code",
   "execution_count": null,
   "metadata": {},
   "outputs": [],
   "source": [
    "# We can also use a set comprehensions\n",
    "nums = [1,1,2,3,1,4,5,4,6,6,7,8,2,8,9,10,10]\n",
    "my_set = {n for n in nums}\n",
    "print(my_set)\n",
    "# Note the use of curly brackets for set comprehensions!"
   ]
  }
 ],
 "metadata": {
  "interpreter": {
   "hash": "d49c3f6d6dd49f9272b571d9fad348ab55b8c6c3f691520d74ed0af1f69c3dd8"
  },
  "kernelspec": {
   "display_name": "Python 3.7.9 64-bit",
   "language": "python",
   "name": "python3"
  },
  "language_info": {
   "codemirror_mode": {
    "name": "ipython",
    "version": 3
   },
   "file_extension": ".py",
   "mimetype": "text/x-python",
   "name": "python",
   "nbconvert_exporter": "python",
   "pygments_lexer": "ipython3",
   "version": "3.7.9"
  },
  "orig_nbformat": 4
 },
 "nbformat": 4,
 "nbformat_minor": 2
}
