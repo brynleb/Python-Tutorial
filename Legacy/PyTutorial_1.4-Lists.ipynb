{
 "cells": [
  {
   "cell_type": "markdown",
   "metadata": {},
   "source": [
    "# PyTutorial 1.4 - Lists, tuples and sets\n",
    "\n",
    "In Python, lists and tuples are collections of objects in a sequence.  \n",
    "A set is an unordered collection of values with no duplicates.  \n",
    "Lists use square brackets: [1,2,3]  \n",
    "Tuples use paratheses: (1,2,3)  \n",
    "Sets use curly brackets: {1,2,3} or set(1,2,3)  \n",
    "Lists are the most common object among the three, so we will first focus on how to use them."
   ]
  },
  {
   "cell_type": "code",
   "execution_count": null,
   "metadata": {},
   "outputs": [],
   "source": [
    "# Lets create a list of strings called courses:\n",
    "courses = ['History', 'Math', 'Physics', 'CompSci']\n",
    "print(courses)\n",
    "\n",
    "# We can get the number of elements in a list using the 'len()' function the same way we count the number of characters in a string.\n",
    "print(len(courses))"
   ]
  },
  {
   "cell_type": "code",
   "execution_count": null,
   "metadata": {},
   "outputs": [],
   "source": [
    "# We can access individual elements in a list using an index with square brackets:\n",
    "print(courses[0])\n",
    "print(courses[1])\n",
    "print(courses[2])\n",
    "print(courses[3])\n",
    "# Note the last element in the list has index = 4-1 = 3, \n",
    "print(courses[4]) # This line produces an IndexError: 'list index out of range'"
   ]
  },
  {
   "cell_type": "code",
   "execution_count": null,
   "metadata": {},
   "outputs": [],
   "source": [
    "# We can also use negative indices to start from the end of the list:\n",
    "print(courses[-1])\n",
    "print(courses[-2])\n",
    "print(courses[-3])\n",
    "print(courses[-4])\n",
    "# Here the last item will always be specified by index = -1, just as the first is always index = 0"
   ]
  },
  {
   "cell_type": "code",
   "execution_count": null,
   "metadata": {},
   "outputs": [],
   "source": [
    "# We can also access a range of values using a semicolon :\n",
    "print(courses[0:2])\n",
    "# Remember that the 1st index is inclusive, but the 2nd index is not.\n",
    "\n",
    "print(courses[2:])\n",
    "# This is called slicing."
   ]
  },
  {
   "cell_type": "code",
   "execution_count": null,
   "metadata": {},
   "outputs": [],
   "source": [
    "# We can slice lists or strings in the same way.\n",
    "# For example, to show only the first 3 elements/characters:\n",
    "nums = [0,1,2,3,4,5]\n",
    "string = 'abcdef'\n",
    "print(nums[:3])\n",
    "print(string[:3])"
   ]
  },
  {
   "cell_type": "code",
   "execution_count": null,
   "metadata": {},
   "outputs": [],
   "source": [
    "# We can also specify an index step size using a 2nd colon (by default the step size is 1):\n",
    "print(nums[0:6:2])\n",
    "print(nums[5:0:-2])\n",
    "\n",
    "# To return a list in reverse:\n",
    "print(nums[::-1])"
   ]
  },
  {
   "cell_type": "code",
   "execution_count": null,
   "metadata": {},
   "outputs": [],
   "source": [
    "# To add an item to the end of our list we can use the 'append' method:\n",
    "courses = ['History', 'Math', 'Physics', 'CompSci']\n",
    "print(courses)\n",
    "courses.append('Art')\n",
    "print(courses)\n",
    "# Note that 'append' modifies the value of 'courses' in place, like most list methods."
   ]
  },
  {
   "cell_type": "code",
   "execution_count": null,
   "metadata": {},
   "outputs": [],
   "source": [
    "# To add an element to a specific location we can use the 'insert' method:\n",
    "courses = ['History', 'Math', 'Physics', 'CompSci']\n",
    "courses.insert(0, 'Chemistry')\n",
    "print(courses)\n",
    "\n",
    "# Insert also works with lists of values\n",
    "courses.insert(0, ['Biology', 'French'])\n",
    "print(courses)\n",
    "\n",
    "# However, this will insert the entire list as the first element, instead of each element individually.\n",
    "print(courses[0])"
   ]
  },
  {
   "cell_type": "code",
   "execution_count": null,
   "metadata": {},
   "outputs": [],
   "source": [
    "# There are different ways to combine two or more lists together:\n",
    "# We can use the 'extend' method:\n",
    "courses_1 = ['History', 'Math', 'Physics', 'CompSci']\n",
    "courses_2 = ['Art', 'Chemistry']\n",
    "courses_1.extend(courses_2)\n",
    "print(courses_1)\n",
    "# This adds each element in courses_2 to the end of courses_1 one item at a time."
   ]
  },
  {
   "cell_type": "code",
   "execution_count": null,
   "metadata": {},
   "outputs": [],
   "source": [
    "# Similarly, we can simply add the two lists:\n",
    "courses = courses_1 + courses_2\n",
    "print(courses)\n",
    "# Note the extend modifies the list in place, while the '+' operation creates a new list."
   ]
  },
  {
   "cell_type": "code",
   "execution_count": null,
   "metadata": {},
   "outputs": [],
   "source": [
    "# We can multiply a list by an integer 'm' to concatenates that list with itself 'm' times:\n",
    "courses_1 = ['History', 'Math', 'Physics', 'CompSci']\n",
    "courses_2 = 3*courses_1\n",
    "print(courses_2)\n",
    "# Note that floating-point multiplication is not defined for lists."
   ]
  },
  {
   "cell_type": "code",
   "execution_count": null,
   "metadata": {},
   "outputs": [],
   "source": [
    "# We can remove elements from a list using the 'remove' method:\n",
    "courses = ['History', 'Math', 'Physics', 'CompSci']\n",
    "print(courses)\n",
    "courses.remove('Math')\n",
    "print(courses)"
   ]
  },
  {
   "cell_type": "code",
   "execution_count": null,
   "metadata": {},
   "outputs": [],
   "source": [
    "# We can also use elements using the 'pop' method.\n",
    "# By default this removes the last item in the list:\n",
    "courses = ['History', 'Math', 'Physics', 'CompSci']\n",
    "courses.pop()\n",
    "print(courses)\n",
    "\n",
    "# pop() modifies the list in place, but also returns the element it removed:\n",
    "popped = courses.pop()\n",
    "print(popped)\n",
    "print(courses)\n",
    "# This is useful if we want to use our list in a queue by looping over the list,\n",
    "# popping off elements until the list is empty."
   ]
  },
  {
   "cell_type": "code",
   "execution_count": null,
   "metadata": {},
   "outputs": [],
   "source": [
    "# Lists can be sorted in several ways.\n",
    "# We can reverse the order of the list using the 'reverse' method:\n",
    "courses = ['History', 'Math', 'Physics', 'CompSci']\n",
    "courses.reverse()\n",
    "print(courses)"
   ]
  },
  {
   "cell_type": "code",
   "execution_count": null,
   "metadata": {},
   "outputs": [],
   "source": [
    "# To sort a list of strings alphabetically, use the 'sort' method:\n",
    "courses.sort()\n",
    "print(courses)\n",
    "\n",
    "# sort() can also sort of list of numbers in ascending order:\n",
    "nums = [3,2,4,1,5]\n",
    "nums.sort()\n",
    "print(nums)"
   ]
  },
  {
   "cell_type": "code",
   "execution_count": null,
   "metadata": {},
   "outputs": [],
   "source": [
    "# To sort our lists in descending alphabetical/numerical order, we can pass an optional value to sort:\n",
    "courses.sort(reverse=True)\n",
    "nums.sort(reverse=True)\n",
    "print(courses)\n",
    "print(nums)"
   ]
  },
  {
   "cell_type": "code",
   "execution_count": null,
   "metadata": {},
   "outputs": [],
   "source": [
    "# The sort method modifies the list inplace. To avoid this we can use\n",
    "# the built-in function 'sorted()', which returns a new sorted version of the list.\n",
    "courses = ['History', 'Math', 'Physics', 'CompSci']\n",
    "courses_sorted = sorted(courses)\n",
    "print(courses_sorted)\n",
    "# This allows us get a sorted list without altering the original."
   ]
  },
  {
   "cell_type": "code",
   "execution_count": null,
   "metadata": {},
   "outputs": [],
   "source": [
    "# Some useful built-in functions for numerical lists include min(), max(), sum():\n",
    "nums = [3,2,4,1,5]\n",
    "print(min(nums))\n",
    "print(max(nums))\n",
    "print(sum(nums))"
   ]
  },
  {
   "cell_type": "code",
   "execution_count": null,
   "metadata": {},
   "outputs": [],
   "source": [
    "# To find the index of a particular element in a list, we can use the 'index' method:\n",
    "courses = ['History', 'Math', 'Physics', 'CompSci']\n",
    "print(courses.index('Math'))\n",
    "\n",
    "# We can verify this worked by returning that same index:\n",
    "index = courses.index('Math')\n",
    "print(courses[index])\n",
    "\n",
    "# If we search for a value that doesn't exist in the list we'll get a ValueError:\n",
    "print(courses.index('Biology'))"
   ]
  },
  {
   "cell_type": "code",
   "execution_count": null,
   "metadata": {},
   "outputs": [],
   "source": [
    "# To check if a value is in a list we can use the 'in' operator:\n",
    "courses = ['History', 'Math', 'Physics', 'CompSci']\n",
    "print('Math' in courses)\n",
    "print('Art' in courses)\n",
    "# This is a conditional test that returns a Boolean (True or False) value"
   ]
  },
  {
   "cell_type": "code",
   "execution_count": null,
   "metadata": {},
   "outputs": [],
   "source": [
    "# A common operation to make on lists is to combine the elements in a string,\n",
    "# with each element separated by characters. For this we can use a string method called 'join':\n",
    "courses = ['History', 'Math', 'Physics', 'CompSci']\n",
    "courses_str = ', '.join(courses)\n",
    "print(courses_str)\n",
    "# This returns a single string with each course separated by ', '\n",
    "\n",
    "courses_str = ' - '.join(courses)\n",
    "print(courses_str)\n",
    "# This returns a single string with each course separated by ' - '\n",
    "\n",
    "# To convert the string back into a list, we can use the 'split' string method:\n",
    "courses_list = courses_str.split(' - ')\n",
    "print(courses_list)\n",
    "# This will split a string into a list of strings, where the list elements are detected\n",
    "# by instances of the argument ' - '"
   ]
  },
  {
   "cell_type": "code",
   "execution_count": null,
   "metadata": {},
   "outputs": [],
   "source": [
    "# While lists are mutable objects (they can be modified), tubles are immutable objects.\n",
    "# Tuples are lists that cannot be modified after creation\n",
    "# To illustrate the difference between lists and tuples, lets create two lists:\n",
    "list_1 = ['History', 'Math', 'Physics', 'CompSci']\n",
    "list_2 = list_1\n",
    "print(list_1)\n",
    "print(list_2)\n",
    "\n",
    "# If we change the value of the first element in list_1, this will also modify list_2:\n",
    "list_1[0] = 'Art'\n",
    "print(list_1)\n",
    "print(list_2)\n",
    "# This is because both list_1 and list_2 are the same mutable object (the same location in memory)."
   ]
  },
  {
   "cell_type": "code",
   "execution_count": null,
   "metadata": {},
   "outputs": [],
   "source": [
    "# Now lets create two tuples (using parentheses):\n",
    "tuple_1 = ('History', 'Math', 'Physics', 'CompSci')\n",
    "tuple_2 = tuple_1\n",
    "print(tuple_1)\n",
    "print(tuple_2)\n",
    "\n",
    "# If we try to charge the first element of tuple_1, we can an error:\n",
    "tuple_1[0] = 'Art'\n",
    "print(tuple_1)\n",
    "print(tuple_2) # This line results in TypeError: 'tuple' object does not support item assignment.\n",
    "# This is because tuples are immutable"
   ]
  },
  {
   "cell_type": "code",
   "execution_count": null,
   "metadata": {},
   "outputs": [],
   "source": [
    "# A set is a list of values that are unordered and have no duplicates.\n",
    "# Sets are defined with curly brackets {}:\n",
    "courses_set = {'History', 'Math', 'Physics', 'CompSci'}\n",
    "print(courses_set)\n",
    "# Each time we run this code, the set can be different because it doesn't care about order.\n",
    "\n",
    "# Sets can contain only unique elements, which means they throw away duplicates:\n",
    "courses_set = {'History', 'Math', 'Physics', 'CompSci', 'Math', 'History'}\n",
    "print(courses_set)"
   ]
  },
  {
   "cell_type": "code",
   "execution_count": null,
   "metadata": {},
   "outputs": [],
   "source": [
    "# Sets are optimized for detecting whether a value is part of a sequence\n",
    "# Sets do this 'membership test' much more efficiently than lists and tuples.\n",
    "cs_courses = {'History', 'Math', 'Physics', 'CompSci'}\n",
    "art_courses = {'History', 'Art', 'Math', 'French'}\n",
    "print('Math' in cs_courses)\n",
    "print('Math' in art_courses)\n",
    "\n",
    "# We can determine which elements are common to two sets using the 'intersection' method:\n",
    "print(cs_courses.intersection(art_courses))\n",
    "\n",
    "# To determine which elements are different between two sets, use the 'difference' method:\n",
    "print(cs_courses.difference(art_courses))\n",
    "\n",
    "# Finally, the 'union' method returns the combined set (only unique elements):\n",
    "print(cs_courses.union(art_courses))"
   ]
  },
  {
   "cell_type": "code",
   "execution_count": null,
   "metadata": {},
   "outputs": [],
   "source": [
    "# To create empty lists:\n",
    "empty_list = []\n",
    "empty_list = list()\n",
    "print(empty_list)\n",
    "print(type(empty_list))\n",
    "\n",
    "# To create empty tuples:\n",
    "empty_tuple = ()\n",
    "empty_tuple = tuple()\n",
    "print(empty_tuple)\n",
    "print(type(empty_tuple))\n",
    "\n",
    "# To create empty sets:\n",
    "empty_set = set()\n",
    "print(empty_set)\n",
    "print(type(empty_set))"
   ]
  },
  {
   "cell_type": "code",
   "execution_count": null,
   "metadata": {},
   "outputs": [],
   "source": [
    "# Beware of this common mistake: this not an empty set but an empty dictionary:\n",
    "empty_dict = {}\n",
    "print(empty_dict)\n",
    "print(type(empty_dict))"
   ]
  }
 ],
 "metadata": {
  "interpreter": {
   "hash": "d49c3f6d6dd49f9272b571d9fad348ab55b8c6c3f691520d74ed0af1f69c3dd8"
  },
  "kernelspec": {
   "display_name": "Python 3.7.9 64-bit",
   "language": "python",
   "name": "python3"
  },
  "language_info": {
   "codemirror_mode": {
    "name": "ipython",
    "version": 3
   },
   "file_extension": ".py",
   "mimetype": "text/x-python",
   "name": "python",
   "nbconvert_exporter": "python",
   "pygments_lexer": "ipython3",
   "version": "3.7.9"
  },
  "orig_nbformat": 4
 },
 "nbformat": 4,
 "nbformat_minor": 2
}
