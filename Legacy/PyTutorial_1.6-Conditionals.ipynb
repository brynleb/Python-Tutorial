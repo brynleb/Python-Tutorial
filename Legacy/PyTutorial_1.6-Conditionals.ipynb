{
 "cells": [
  {
   "cell_type": "markdown",
   "metadata": {},
   "source": [
    "# PyTutorial 1.6 - Conditionals, Booleans, and if statements\n",
    "\n",
    "In Python, boolean variables take on values of 'True' or 'False'.  "
   ]
  },
  {
   "cell_type": "code",
   "execution_count": null,
   "metadata": {},
   "outputs": [],
   "source": [
    "# To construct a conditional statement, we use the 'if' command:\n",
    "if True:\n",
    "\tprint('Conditional was True')"
   ]
  },
  {
   "cell_type": "markdown",
   "metadata": {},
   "source": [
    "The above print statement is executed because the conditional is always True.  \n",
    "Note the tab indentation which Python uses to recognize code within the if-block.  "
   ]
  },
  {
   "cell_type": "code",
   "execution_count": null,
   "metadata": {},
   "outputs": [],
   "source": [
    "# This print statement is not executed because the conditional is always False.\n",
    "if False:\n",
    "\tprint('Conditional was True')"
   ]
  },
  {
   "cell_type": "markdown",
   "metadata": {},
   "source": [
    "Python uses the following comparisons to construct conditional statements:  \n",
    "- Equal:\t\t\t== (checks same value)\n",
    "- Not equal: \t\t!=\n",
    "- Greater than:\t\t>\n",
    "- Less than:\t\t<\n",
    "- Greater or equal: >=\n",
    "- Less or equal: \t<=\n",
    "- Object Identity:\tis (checks same location in memory)"
   ]
  },
  {
   "cell_type": "code",
   "execution_count": null,
   "metadata": {},
   "outputs": [],
   "source": [
    "# To construct a complete if-elif-else block:\n",
    "language = 'Python'\n",
    "# language = 'Java'\n",
    "# language = 'C++'\n",
    "# language = 'Fortran'\n",
    "if language == 'Python':\n",
    "\tprint('Language is Python')\n",
    "elif language == 'Java':\n",
    "\tprint('Language is Java')\n",
    "elif language == 'C++':\n",
    "\tprint('Language is C++')\n",
    "else:\n",
    "\tprint('No language match')\n",
    "# Note that we can keep adding 'elif' statements.\n",
    "# The 'else' statement is always the last case."
   ]
  },
  {
   "cell_type": "code",
   "execution_count": null,
   "metadata": {},
   "outputs": [],
   "source": [
    "# Python uses the following keywords as boolean operators: 'and', 'or', 'not'\n",
    "# For example:\n",
    "user = 'Admin'\n",
    "logged_in = True\n",
    "if user == 'Admin' and logged_in:\n",
    "\tprint('Admin Page')\n",
    "else:\n",
    "\tprint('Bad credentials')\n",
    "\n",
    "if not logged_in:\n",
    "\tprint('Please log in')\n",
    "else:\n",
    "\tprint('Welcome')"
   ]
  },
  {
   "cell_type": "code",
   "execution_count": null,
   "metadata": {},
   "outputs": [],
   "source": [
    "# To check if the values of two objects are the same, we use '==':\n",
    "a = [1,2,3]\n",
    "b = [1,2,3]\n",
    "print(a)\n",
    "print(b)\n",
    "print(a == b)"
   ]
  },
  {
   "cell_type": "code",
   "execution_count": null,
   "metadata": {},
   "outputs": [],
   "source": [
    "# To check if the identities of two objects are the same, we use 'is':\n",
    "print(id(a))\n",
    "print(id(b))\n",
    "print(a is b)\n",
    "# This is equivalent to id(a) == id(b)"
   ]
  },
  {
   "cell_type": "code",
   "execution_count": null,
   "metadata": {},
   "outputs": [],
   "source": [
    "# We can set these two objects to the same location in memory and check again:\n",
    "b = a\n",
    "print(id(a))\n",
    "print(id(b))\n",
    "print(a is b)\n",
    "# This works because Python assignment statements pass by reference, not by value.\n",
    "# This is especially important when coding with extended objects like lists and arrays."
   ]
  },
  {
   "cell_type": "markdown",
   "metadata": {},
   "source": [
    "Python conditional tests that will evaluate to False:  \n",
    "- False\n",
    "- None\n",
    "- Zero of any numeric type\n",
    "- Any empty sequence: e.g. '', (), []\n",
    "- Any empty mapping: e.g. {}"
   ]
  },
  {
   "cell_type": "code",
   "execution_count": null,
   "metadata": {},
   "outputs": [],
   "source": [
    "# Test the following values of 'condition' to see which ones evaluate to True and False:\n",
    "condition = False\n",
    "# condition = None\n",
    "# condition = 0\n",
    "# condition = 0.\n",
    "# condition = 10\n",
    "# condition = ''\n",
    "# condition = 'a'\n",
    "# condition = []\t# Empty list\n",
    "# condition = [1,2,3]\n",
    "# condition = {}\t# Empty dictionary\n",
    "# condition = {'name': 'John'}\n",
    "\n",
    "if condition:\n",
    "\tprint('Evaluated to True')\n",
    "else:\n",
    "\tprint('Evaluated to False')"
   ]
  }
 ],
 "metadata": {
  "interpreter": {
   "hash": "d49c3f6d6dd49f9272b571d9fad348ab55b8c6c3f691520d74ed0af1f69c3dd8"
  },
  "kernelspec": {
   "display_name": "Python 3.7.9 64-bit",
   "language": "python",
   "name": "python3"
  },
  "language_info": {
   "codemirror_mode": {
    "name": "ipython",
    "version": 3
   },
   "file_extension": ".py",
   "mimetype": "text/x-python",
   "name": "python",
   "nbconvert_exporter": "python",
   "pygments_lexer": "ipython3",
   "version": "3.7.9"
  },
  "orig_nbformat": 4
 },
 "nbformat": 4,
 "nbformat_minor": 2
}
