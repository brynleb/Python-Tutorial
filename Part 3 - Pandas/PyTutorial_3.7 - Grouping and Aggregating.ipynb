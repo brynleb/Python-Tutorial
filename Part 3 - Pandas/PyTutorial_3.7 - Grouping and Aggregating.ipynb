{
 "cells": [
  {
   "cell_type": "markdown",
   "metadata": {},
   "source": [
    "This is going to be one of the most important tutorials, since we will be working on analyzing and exploring data."
   ]
  },
  {
   "cell_type": "code",
   "execution_count": null,
   "metadata": {},
   "outputs": [],
   "source": [
    "import pandas as pd  \n",
    "df=pd.read_csv('C:\\\\Users\\\\todds\\\\Downloads\\\\survey_results_public.csv' , index_col='ResponseId')\n",
    "schema_df=pd.read_csv('C:\\\\Users\\\\todds\\\\Downloads\\\\survey_results_schema.csv' , index_col='qname')\n",
    "pd.set_option('display.max_columns' , 85)\n",
    "pd.set_option('display.max_rows' , 85)\n",
    "df.head()"
   ]
  },
  {
   "cell_type": "markdown",
   "metadata": {},
   "source": [
    "First, we will do some simple agregation. This is combining multiple peices of data, like mean, median, or mode."
   ]
  },
  {
   "cell_type": "code",
   "execution_count": null,
   "metadata": {},
   "outputs": [],
   "source": [
    "df['ConvertedCompYearly'].head(15)"
   ]
  },
  {
   "cell_type": "markdown",
   "metadata": {},
   "source": [
    "There are the first 15 answers to the salary question. Note that the NaN(Not a Number) means no answer was given. Let's now find the median of all the answers."
   ]
  },
  {
   "cell_type": "code",
   "execution_count": null,
   "metadata": {},
   "outputs": [],
   "source": [
    "df['ConvertedCompYearly'].median()"
   ]
  },
  {
   "cell_type": "markdown",
   "metadata": {},
   "source": [
    "To get more info, let's take the median fo every column, not just 'ConvertedCompYearly'. Later, we will be able to look at these numbers for individual countries, and compare them."
   ]
  },
  {
   "cell_type": "code",
   "execution_count": null,
   "metadata": {},
   "outputs": [],
   "source": [
    "df.median()"
   ]
  },
  {
   "cell_type": "markdown",
   "metadata": {},
   "source": [
    "We can get even more data for each column with thge function df.describe() . "
   ]
  },
  {
   "cell_type": "code",
   "execution_count": null,
   "metadata": {},
   "outputs": [],
   "source": [
    "df.describe()"
   ]
  },
  {
   "cell_type": "markdown",
   "metadata": {},
   "source": [
    "We see a lot more depth in this data now. The 'CompTotal' is quite high, since many currencies have less value per unit than the USD, so the 'ConvertedCompYearly' is generaly lower. Note that scientific notation is used. The outilers in this DataFrame bring up the mean heavily compared to the median(50%), making a difference of all most 30,000$ USD. It can be seen even more drastically when looking at 'CompTotal', with the mean being 10^39 off the 75% value. The row 'count' displays how many no NaN answers there were to a question. We can do this for indivdual columns."
   ]
  },
  {
   "cell_type": "code",
   "execution_count": null,
   "metadata": {},
   "outputs": [],
   "source": [
    "\n",
    "df['ConvertedCompYearly'].count()"
   ]
  },
  {
   "cell_type": "markdown",
   "metadata": {},
   "source": [
    "Let's look at the data 'AISelect', which is has the answers yes, no and I dont plan to, and no but I plan to soon. This is in reference to the use of AI in development."
   ]
  },
  {
   "cell_type": "code",
   "execution_count": null,
   "metadata": {},
   "outputs": [],
   "source": [
    "df['AISelect']"
   ]
  },
  {
   "cell_type": "markdown",
   "metadata": {},
   "source": [
    "Let's count the answers with value_count"
   ]
  },
  {
   "cell_type": "code",
   "execution_count": null,
   "metadata": {},
   "outputs": [],
   "source": [
    "df['AISelect'].value_counts()"
   ]
  },
  {
   "cell_type": "markdown",
   "metadata": {},
   "source": [
    "Let's look at which currency the devs use day to day. We could further analyze the data by examning which currency people use per country, to see if they us somthing other than the national tender."
   ]
  },
  {
   "cell_type": "code",
   "execution_count": null,
   "metadata": {},
   "outputs": [],
   "source": [
    "df['Currency'].value_counts()"
   ]
  },
  {
   "cell_type": "markdown",
   "metadata": {},
   "source": [
    "If we want to see the question that was asked, the schema can be used. Remeber to add .loc since the indexes are the column names. We also get to see the type of question and more."
   ]
  },
  {
   "cell_type": "code",
   "execution_count": null,
   "metadata": {},
   "outputs": [],
   "source": [
    "schema_df.loc['Currency'] \n"
   ]
  },
  {
   "cell_type": "markdown",
   "metadata": {},
   "source": [
    "If we want a percentage breakdown of the 'Currency' data, we can normalize the fucntion."
   ]
  },
  {
   "cell_type": "code",
   "execution_count": null,
   "metadata": {},
   "outputs": [],
   "source": [
    "df['Currency'].value_counts(normalize=True)"
   ]
  },
  {
   "cell_type": "markdown",
   "metadata": {},
   "source": [
    "Now we can start lookking at results by country. First off is counting the number of respondents from each country."
   ]
  },
  {
   "cell_type": "code",
   "execution_count": null,
   "metadata": {},
   "outputs": [],
   "source": [
    "df['Country'].value_counts()"
   ]
  },
  {
   "cell_type": "markdown",
   "metadata": {},
   "source": [
    "Now we can group by 'Country' . We should set this group to a variable, so it is easier to access as we work. "
   ]
  },
  {
   "cell_type": "code",
   "execution_count": null,
   "metadata": {},
   "outputs": [],
   "source": [
    "C_grp=df.groupby(['Country'])\n",
    "C_grp"
   ]
  },
  {
   "cell_type": "markdown",
   "metadata": {},
   "source": [
    "Now we can use get_group on a country."
   ]
  },
  {
   "cell_type": "code",
   "execution_count": null,
   "metadata": {},
   "outputs": [],
   "source": [
    "C_grp.get_group('United States of America')"
   ]
  },
  {
   "cell_type": "markdown",
   "metadata": {},
   "source": [
    "If we only wanted to get these results for a country, we could use a filter. But, if we want to see the results for every country at once, this is the best route to take. The .head() allows us to pick how many results we see."
   ]
  },
  {
   "cell_type": "code",
   "execution_count": null,
   "metadata": {},
   "outputs": [],
   "source": [
    "C_grp['Currency'].value_counts().head(50)"
   ]
  },
  {
   "cell_type": "markdown",
   "metadata": {},
   "source": [
    "We can also put a .loc to get the results for any country. Try putting in different countries if you are curious. "
   ]
  },
  {
   "cell_type": "code",
   "execution_count": null,
   "metadata": {},
   "outputs": [],
   "source": [
    "C_grp['Currency'].value_counts().loc['India']"
   ]
  },
  {
   "cell_type": "markdown",
   "metadata": {},
   "source": [
    "Let's now find the median salaries for each country. "
   ]
  },
  {
   "cell_type": "code",
   "execution_count": null,
   "metadata": {},
   "outputs": [],
   "source": [
    "C_grp['ConvertedCompYearly'].median().head(50)"
   ]
  },
  {
   "cell_type": "markdown",
   "metadata": {},
   "source": [
    "Again we can find the value for a specific country."
   ]
  },
  {
   "cell_type": "code",
   "execution_count": null,
   "metadata": {},
   "outputs": [],
   "source": [
    "C_grp['ConvertedCompYearly'].median().loc['Canada']"
   ]
  },
  {
   "cell_type": "markdown",
   "metadata": {},
   "source": [
    "We can also make a DataFrame with mutiple aggregate values, you can choose which ones to put in the list. For now we have median and mean."
   ]
  },
  {
   "cell_type": "code",
   "execution_count": null,
   "metadata": {},
   "outputs": [],
   "source": [
    "C_grp['ConvertedCompYearly'].agg(['median', 'mean', 'count']).head(50)\n"
   ]
  },
  {
   "cell_type": "markdown",
   "metadata": {},
   "source": [
    "Now we should try to see how many people use python from the respondents in each country. The method will be a little different."
   ]
  },
  {
   "cell_type": "code",
   "execution_count": null,
   "metadata": {},
   "outputs": [],
   "source": [
    "C_grp['LanguageHaveWorkedWith'].apply(lambda x: x.str.contains('Python').sum()).head(50)\n"
   ]
  },
  {
   "cell_type": "markdown",
   "metadata": {},
   "source": [
    "On its own this data isn't very helpfull, we need to find and compare the number of respondents from each country to the number that know python. Try to find the percentage of respondents from each country that use python, and perhaps the median and mean. If you get stuck, one way to solve is below."
   ]
  },
  {
   "cell_type": "code",
   "execution_count": 101,
   "metadata": {},
   "outputs": [],
   "source": [
    "# % of respondents that use python"
   ]
  },
  {
   "cell_type": "markdown",
   "metadata": {},
   "source": [
    "Did you get it? Compare answer with the function below\n",
    "-\n",
    "-\n",
    "-\n",
    "-\n",
    "-\n",
    "-\n",
    "-\n",
    "-\n",
    "-\n",
    "-\n",
    "-\n",
    "\n"
   ]
  },
  {
   "cell_type": "code",
   "execution_count": null,
   "metadata": {},
   "outputs": [],
   "source": [
    "C_num=df['Country'].value_counts()\n",
    "C_pyt=C_grp['LanguageHaveWorkedWith'].apply(lambda x: x.str.contains('Python').sum())\n",
    "C_numpyt=((C_pyt)/(C_num))*100\n",
    "C_numpyt.rename('Percentage')\n",
    "print(C_numpyt.agg(['median','mean']))\n",
    "C_numpyt.head(50)"
   ]
  },
  {
   "cell_type": "markdown",
   "metadata": {},
   "source": [
    "As we know, you can look at the value for an individual country using .loc , but we can also make an ascending or decending dataframe to examine results."
   ]
  },
  {
   "cell_type": "code",
   "execution_count": null,
   "metadata": {},
   "outputs": [],
   "source": [
    "C_numpyt.sort_values(ascending=False).head(50), \n"
   ]
  },
  {
   "cell_type": "markdown",
   "metadata": {},
   "source": [
    "Let's make a better DataFrame to display more values pertaining to pyton use in countries. We will use the concatenate function."
   ]
  },
  {
   "cell_type": "code",
   "execution_count": null,
   "metadata": {},
   "outputs": [],
   "source": [
    "C_all=pd.concat([C_num, C_pyt, C_numpyt], axis='columns').head(50)\n",
    "C_all"
   ]
  },
  {
   "cell_type": "markdown",
   "metadata": {},
   "source": [
    "As always, we can single out a country and sort by ascending/descending. Let's rename the columns so they make more sense."
   ]
  },
  {
   "cell_type": "code",
   "execution_count": null,
   "metadata": {},
   "outputs": [],
   "source": [
    "C_all.rename(columns={'Country':'# Of Responses', 'LanguageHaveWorkedWith':'# That Have Used Python',0:'Percentage'})"
   ]
  },
  {
   "cell_type": "markdown",
   "metadata": {},
   "source": [
    "We now know how Group and Aggregate our data, as well as analyze data in different ways. "
   ]
  }
 ],
 "metadata": {
  "kernelspec": {
   "display_name": "base",
   "language": "python",
   "name": "python3"
  },
  "language_info": {
   "codemirror_mode": {
    "name": "ipython",
    "version": 3
   },
   "file_extension": ".py",
   "mimetype": "text/x-python",
   "name": "python",
   "nbconvert_exporter": "python",
   "pygments_lexer": "ipython3",
   "version": "3.11.3"
  },
  "orig_nbformat": 4
 },
 "nbformat": 4,
 "nbformat_minor": 2
}
