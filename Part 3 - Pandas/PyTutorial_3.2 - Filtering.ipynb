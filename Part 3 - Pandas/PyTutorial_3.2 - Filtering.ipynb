{
 "cells": [
  {
   "cell_type": "markdown",
   "metadata": {},
   "source": [
    "# PyTutorial 3.2 - Filtering\n",
    "\n",
    "In this module, we will learn how to use Conditionals to Filter Rows and Columns. "
   ]
  },
  {
   "cell_type": "code",
   "execution_count": 93,
   "metadata": {},
   "outputs": [
    {
     "data": {
      "text/html": [
       "<div>\n",
       "<style scoped>\n",
       "    .dataframe tbody tr th:only-of-type {\n",
       "        vertical-align: middle;\n",
       "    }\n",
       "\n",
       "    .dataframe tbody tr th {\n",
       "        vertical-align: top;\n",
       "    }\n",
       "\n",
       "    .dataframe thead th {\n",
       "        text-align: right;\n",
       "    }\n",
       "</style>\n",
       "<table border=\"1\" class=\"dataframe\">\n",
       "  <thead>\n",
       "    <tr style=\"text-align: right;\">\n",
       "      <th></th>\n",
       "      <th>first</th>\n",
       "      <th>last</th>\n",
       "      <th>email</th>\n",
       "      <th>salary</th>\n",
       "      <th>planet</th>\n",
       "    </tr>\n",
       "  </thead>\n",
       "  <tbody>\n",
       "    <tr>\n",
       "      <th>0</th>\n",
       "      <td>Ben</td>\n",
       "      <td>Kenobi</td>\n",
       "      <td>Benkenobi@email.com</td>\n",
       "      <td>10000</td>\n",
       "      <td>Stewjon</td>\n",
       "    </tr>\n",
       "    <tr>\n",
       "      <th>1</th>\n",
       "      <td>Han</td>\n",
       "      <td>Solo</td>\n",
       "      <td>Hansolo@email.com</td>\n",
       "      <td>7000</td>\n",
       "      <td>Corellia</td>\n",
       "    </tr>\n",
       "    <tr>\n",
       "      <th>2</th>\n",
       "      <td>Luke</td>\n",
       "      <td>Skywalker</td>\n",
       "      <td>Lukeskywalker@email.com</td>\n",
       "      <td>200000</td>\n",
       "      <td>Tatooine</td>\n",
       "    </tr>\n",
       "    <tr>\n",
       "      <th>3</th>\n",
       "      <td>Anakin</td>\n",
       "      <td>Skywalker</td>\n",
       "      <td>Anakinskywalker@vader.com</td>\n",
       "      <td>1000000</td>\n",
       "      <td>Tatooine</td>\n",
       "    </tr>\n",
       "    <tr>\n",
       "      <th>4</th>\n",
       "      <td>Leia</td>\n",
       "      <td>Organa</td>\n",
       "      <td>Leiaorgana@email.com</td>\n",
       "      <td>8000</td>\n",
       "      <td>Alderaan</td>\n",
       "    </tr>\n",
       "    <tr>\n",
       "      <th>5</th>\n",
       "      <td>Chew</td>\n",
       "      <td>Bacca</td>\n",
       "      <td>Chewbacca@email.com</td>\n",
       "      <td>5000</td>\n",
       "      <td>Kashyyyk</td>\n",
       "    </tr>\n",
       "    <tr>\n",
       "      <th>6</th>\n",
       "      <td>Master</td>\n",
       "      <td>Yoda</td>\n",
       "      <td>Masteryoda@force.com</td>\n",
       "      <td>2000000</td>\n",
       "      <td>Dagobah</td>\n",
       "    </tr>\n",
       "  </tbody>\n",
       "</table>\n",
       "</div>"
      ],
      "text/plain": [
       "    first       last                      email   salary    planet\n",
       "0     Ben     Kenobi        Benkenobi@email.com    10000   Stewjon\n",
       "1     Han       Solo          Hansolo@email.com     7000  Corellia\n",
       "2    Luke  Skywalker    Lukeskywalker@email.com   200000  Tatooine\n",
       "3  Anakin  Skywalker  Anakinskywalker@vader.com  1000000  Tatooine\n",
       "4    Leia     Organa       Leiaorgana@email.com     8000  Alderaan\n",
       "5    Chew      Bacca        Chewbacca@email.com     5000  Kashyyyk\n",
       "6  Master       Yoda       Masteryoda@force.com  2000000   Dagobah"
      ]
     },
     "execution_count": 93,
     "metadata": {},
     "output_type": "execute_result"
    }
   ],
   "source": [
    "import pandas as pd\n",
    "\n",
    "people = { \"first\": [\"Ben\", \"Han\", \"Luke\", \"Anakin\", \"Leia\", \"Chew\", \"Master\"], \n",
    "\"last\": [\"Kenobi\", \"Solo\", \"Skywalker\", \"Skywalker\", \"Organa\", \"Bacca\", \"Yoda\"], \n",
    "\"email\": [\"Benkenobi@email.com\", \"Hansolo@email.com\", \"Lukeskywalker@email.com\", \"Anakinskywalker@vader.com\", \"Leiaorgana@email.com\", \"Chewbacca@email.com\", \"Masteryoda@force.com\"], \"salary\": [\"10000\", \"7000\", \"200000\", \"1000000\",\"8000\", \"5000\", \"2000000\"], \"planet\": [\"Stewjon\", \"Corellia\", \"Tatooine\", \"Tatooine\", \"Alderaan\", \"Kashyyyk\", \"Dagobah\"]}\n",
    "df = pd.DataFrame(people)\n",
    "df"
   ]
  },
  {
   "cell_type": "code",
   "execution_count": 57,
   "metadata": {},
   "outputs": [
    {
     "data": {
      "text/plain": [
       "0    False\n",
       "1    False\n",
       "2     True\n",
       "3     True\n",
       "4    False\n",
       "5    False\n",
       "6    False\n",
       "Name: last, dtype: bool"
      ]
     },
     "execution_count": 57,
     "metadata": {},
     "output_type": "execute_result"
    }
   ],
   "source": [
    "#Say you want to find two people with the same last name, this is how you would filter it.\n",
    "df['last'] == 'Skywalker'"
   ]
  },
  {
   "cell_type": "markdown",
   "metadata": {},
   "source": [
    "After running it, you get back a series object. The true values are the rows that met our filter criteria. Now you can aplly this filter to your data frame. I', going to create a variable called \"filt\""
   ]
  },
  {
   "cell_type": "code",
   "execution_count": 58,
   "metadata": {},
   "outputs": [
    {
     "data": {
      "text/html": [
       "<div>\n",
       "<style scoped>\n",
       "    .dataframe tbody tr th:only-of-type {\n",
       "        vertical-align: middle;\n",
       "    }\n",
       "\n",
       "    .dataframe tbody tr th {\n",
       "        vertical-align: top;\n",
       "    }\n",
       "\n",
       "    .dataframe thead th {\n",
       "        text-align: right;\n",
       "    }\n",
       "</style>\n",
       "<table border=\"1\" class=\"dataframe\">\n",
       "  <thead>\n",
       "    <tr style=\"text-align: right;\">\n",
       "      <th></th>\n",
       "      <th>first</th>\n",
       "      <th>last</th>\n",
       "      <th>email</th>\n",
       "      <th>salary</th>\n",
       "    </tr>\n",
       "  </thead>\n",
       "  <tbody>\n",
       "    <tr>\n",
       "      <th>2</th>\n",
       "      <td>Luke</td>\n",
       "      <td>Skywalker</td>\n",
       "      <td>Lukeskywalker@email.com</td>\n",
       "      <td>200000</td>\n",
       "    </tr>\n",
       "    <tr>\n",
       "      <th>3</th>\n",
       "      <td>Anakin</td>\n",
       "      <td>Skywalker</td>\n",
       "      <td>Anakinskywalker@vader.com</td>\n",
       "      <td>1000000</td>\n",
       "    </tr>\n",
       "  </tbody>\n",
       "</table>\n",
       "</div>"
      ],
      "text/plain": [
       "    first       last                      email   salary\n",
       "2    Luke  Skywalker    Lukeskywalker@email.com   200000\n",
       "3  Anakin  Skywalker  Anakinskywalker@vader.com  1000000"
      ]
     },
     "execution_count": 58,
     "metadata": {},
     "output_type": "execute_result"
    }
   ],
   "source": [
    "filt = df['last'] == \"Skywalker\"\n",
    "df[filt]\n",
    "#This returns all the rows that have the last name \"Skywalker\""
   ]
  },
  {
   "cell_type": "code",
   "execution_count": 59,
   "metadata": {},
   "outputs": [
    {
     "data": {
      "text/html": [
       "<div>\n",
       "<style scoped>\n",
       "    .dataframe tbody tr th:only-of-type {\n",
       "        vertical-align: middle;\n",
       "    }\n",
       "\n",
       "    .dataframe tbody tr th {\n",
       "        vertical-align: top;\n",
       "    }\n",
       "\n",
       "    .dataframe thead th {\n",
       "        text-align: right;\n",
       "    }\n",
       "</style>\n",
       "<table border=\"1\" class=\"dataframe\">\n",
       "  <thead>\n",
       "    <tr style=\"text-align: right;\">\n",
       "      <th></th>\n",
       "      <th>first</th>\n",
       "      <th>last</th>\n",
       "      <th>email</th>\n",
       "      <th>salary</th>\n",
       "    </tr>\n",
       "  </thead>\n",
       "  <tbody>\n",
       "    <tr>\n",
       "      <th>2</th>\n",
       "      <td>Luke</td>\n",
       "      <td>Skywalker</td>\n",
       "      <td>Lukeskywalker@email.com</td>\n",
       "      <td>200000</td>\n",
       "    </tr>\n",
       "    <tr>\n",
       "      <th>3</th>\n",
       "      <td>Anakin</td>\n",
       "      <td>Skywalker</td>\n",
       "      <td>Anakinskywalker@vader.com</td>\n",
       "      <td>1000000</td>\n",
       "    </tr>\n",
       "  </tbody>\n",
       "</table>\n",
       "</div>"
      ],
      "text/plain": [
       "    first       last                      email   salary\n",
       "2    Luke  Skywalker    Lukeskywalker@email.com   200000\n",
       "3  Anakin  Skywalker  Anakinskywalker@vader.com  1000000"
      ]
     },
     "execution_count": 59,
     "metadata": {},
     "output_type": "execute_result"
    }
   ],
   "source": [
    "#You can also do:\n",
    "df[df[\"last\"] == \"Skywalker\"]\n",
    "#It gaves you the same results as the method we used above."
   ]
  },
  {
   "cell_type": "code",
   "execution_count": 60,
   "metadata": {},
   "outputs": [
    {
     "data": {
      "text/html": [
       "<div>\n",
       "<style scoped>\n",
       "    .dataframe tbody tr th:only-of-type {\n",
       "        vertical-align: middle;\n",
       "    }\n",
       "\n",
       "    .dataframe tbody tr th {\n",
       "        vertical-align: top;\n",
       "    }\n",
       "\n",
       "    .dataframe thead th {\n",
       "        text-align: right;\n",
       "    }\n",
       "</style>\n",
       "<table border=\"1\" class=\"dataframe\">\n",
       "  <thead>\n",
       "    <tr style=\"text-align: right;\">\n",
       "      <th></th>\n",
       "      <th>first</th>\n",
       "      <th>last</th>\n",
       "      <th>email</th>\n",
       "      <th>salary</th>\n",
       "    </tr>\n",
       "  </thead>\n",
       "  <tbody>\n",
       "    <tr>\n",
       "      <th>2</th>\n",
       "      <td>Luke</td>\n",
       "      <td>Skywalker</td>\n",
       "      <td>Lukeskywalker@email.com</td>\n",
       "      <td>200000</td>\n",
       "    </tr>\n",
       "    <tr>\n",
       "      <th>3</th>\n",
       "      <td>Anakin</td>\n",
       "      <td>Skywalker</td>\n",
       "      <td>Anakinskywalker@vader.com</td>\n",
       "      <td>1000000</td>\n",
       "    </tr>\n",
       "  </tbody>\n",
       "</table>\n",
       "</div>"
      ],
      "text/plain": [
       "    first       last                      email   salary\n",
       "2    Luke  Skywalker    Lukeskywalker@email.com   200000\n",
       "3  Anakin  Skywalker  Anakinskywalker@vader.com  1000000"
      ]
     },
     "execution_count": 60,
     "metadata": {},
     "output_type": "execute_result"
    }
   ],
   "source": [
    "#Lastly, we cause df.loc, which we used in the last tutorial. It will also give you the same results.\n",
    "df.loc[filt]"
   ]
  },
  {
   "cell_type": "code",
   "execution_count": 71,
   "metadata": {},
   "outputs": [
    {
     "data": {
      "text/plain": [
       "2    Lukeskywalker@email.com\n",
       "Name: email, dtype: object"
      ]
     },
     "execution_count": 71,
     "metadata": {},
     "output_type": "execute_result"
    }
   ],
   "source": [
    "#If you're trying to find another column, you can add it in to the previous code.\n",
    "df.loc[filt, \"email\"]"
   ]
  },
  {
   "cell_type": "code",
   "execution_count": 69,
   "metadata": {},
   "outputs": [
    {
     "data": {
      "text/plain": [
       "2    Lukeskywalker@email.com\n",
       "Name: email, dtype: object"
      ]
     },
     "execution_count": 69,
     "metadata": {},
     "output_type": "execute_result"
    }
   ],
   "source": [
    "#If there are two filters you want to use, you can add t'em both into the filt function.\n",
    "filt = (df['last'] == 'Skywalker') & (df['first'] == 'Luke')\n",
    "df.loc[filt, 'email']"
   ]
  },
  {
   "cell_type": "code",
   "execution_count": 95,
   "metadata": {},
   "outputs": [
    {
     "data": {
      "text/plain": [
       "2    Tatooine\n",
       "3    Tatooine\n",
       "4    Alderaan\n",
       "6     Dagobah\n",
       "Name: planet, dtype: object"
      ]
     },
     "execution_count": 95,
     "metadata": {},
     "output_type": "execute_result"
    }
   ],
   "source": [
    "#Here is how you can make a list to filter out the planets/ one of your columns.\n",
    "planets = [\"Tatooine\", \"Alderaan\", \"Dagobah\"] #list of planets\n",
    "filt = df[\"planet\"].isin(planets) #creating a filter\n",
    "df.loc[filt, \"planet\"]"
   ]
  },
  {
   "cell_type": "markdown",
   "metadata": {},
   "source": [
    "We can use the string method in Pandas to make alterations to our data frame.\n",
    "\n",
    "Say you had a data frame where a column named \"Codinglanguage\" had multiple answers. For this example, we're going to say the answers are: Python,Java,Vs and HTML. If you're trying to filter out Python, you can use contains. It would look like this: \n",
    "\n",
    "        #filt = df[\"Codinglanguage\"].str.contains(\"Python\", na=False) \n",
    "        df.loc[filt, \"Codinglanguage\"]\n",
    "\n",
    "This is saying for this column(Codinglanguage), does the string in that column contain \"PYTHON\"\n",
    "All of the answers you'd get back would contain python."
   ]
  }
 ],
 "metadata": {
  "kernelspec": {
   "display_name": "Python 3.10.8 64-bit",
   "language": "python",
   "name": "python3"
  },
  "language_info": {
   "codemirror_mode": {
    "name": "ipython",
    "version": 3
   },
   "file_extension": ".py",
   "mimetype": "text/x-python",
   "name": "python",
   "nbconvert_exporter": "python",
   "pygments_lexer": "ipython3",
   "version": "3.10.8"
  },
  "orig_nbformat": 4,
  "vscode": {
   "interpreter": {
    "hash": "369f2c481f4da34e4445cda3fffd2e751bd1c4d706f27375911949ba6bb62e1c"
   }
  }
 },
 "nbformat": 4,
 "nbformat_minor": 2
}
