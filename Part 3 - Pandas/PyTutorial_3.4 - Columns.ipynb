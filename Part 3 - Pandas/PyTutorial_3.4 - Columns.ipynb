{
 "cells": [
  {
   "cell_type": "markdown",
   "metadata": {},
   "source": [
    "# Python Pandas Tutorial 5- Updating Rows and Columns\n",
    "Welcome to the fifth module of the Panda's Tutorial! In this module, we will learn how to Modify Data Within DataFrames. "
   ]
  },
  {
   "cell_type": "code",
   "execution_count": 113,
   "metadata": {},
   "outputs": [
    {
     "data": {
      "text/html": [
       "<div>\n",
       "<style scoped>\n",
       "    .dataframe tbody tr th:only-of-type {\n",
       "        vertical-align: middle;\n",
       "    }\n",
       "\n",
       "    .dataframe tbody tr th {\n",
       "        vertical-align: top;\n",
       "    }\n",
       "\n",
       "    .dataframe thead th {\n",
       "        text-align: right;\n",
       "    }\n",
       "</style>\n",
       "<table border=\"1\" class=\"dataframe\">\n",
       "  <thead>\n",
       "    <tr style=\"text-align: right;\">\n",
       "      <th></th>\n",
       "      <th>first</th>\n",
       "      <th>last</th>\n",
       "      <th>email</th>\n",
       "      <th>salary</th>\n",
       "      <th>planet</th>\n",
       "    </tr>\n",
       "  </thead>\n",
       "  <tbody>\n",
       "    <tr>\n",
       "      <th>0</th>\n",
       "      <td>Ben</td>\n",
       "      <td>Kenobi</td>\n",
       "      <td>Benkenobi@email.com</td>\n",
       "      <td>10000</td>\n",
       "      <td>Stewjon</td>\n",
       "    </tr>\n",
       "    <tr>\n",
       "      <th>1</th>\n",
       "      <td>Han</td>\n",
       "      <td>Solo</td>\n",
       "      <td>Hansolo@email.com</td>\n",
       "      <td>7000</td>\n",
       "      <td>Corellia</td>\n",
       "    </tr>\n",
       "    <tr>\n",
       "      <th>2</th>\n",
       "      <td>Luke</td>\n",
       "      <td>Skywalker</td>\n",
       "      <td>Lukeskywalker@email.com</td>\n",
       "      <td>200000</td>\n",
       "      <td>Tatooine</td>\n",
       "    </tr>\n",
       "    <tr>\n",
       "      <th>3</th>\n",
       "      <td>Anakin</td>\n",
       "      <td>Skywalker</td>\n",
       "      <td>Anakinskywalker@vader.com</td>\n",
       "      <td>1000000</td>\n",
       "      <td>Tatooine</td>\n",
       "    </tr>\n",
       "    <tr>\n",
       "      <th>4</th>\n",
       "      <td>Leia</td>\n",
       "      <td>Organa</td>\n",
       "      <td>Leiaorgana@email.com</td>\n",
       "      <td>8000</td>\n",
       "      <td>Alderaan</td>\n",
       "    </tr>\n",
       "    <tr>\n",
       "      <th>5</th>\n",
       "      <td>Chew</td>\n",
       "      <td>Bacca</td>\n",
       "      <td>Chewbacca@email.com</td>\n",
       "      <td>5000</td>\n",
       "      <td>Kashyyyk</td>\n",
       "    </tr>\n",
       "    <tr>\n",
       "      <th>6</th>\n",
       "      <td>Master</td>\n",
       "      <td>Yoda</td>\n",
       "      <td>Masteryoda@force.com</td>\n",
       "      <td>2000000</td>\n",
       "      <td>Dagobah</td>\n",
       "    </tr>\n",
       "  </tbody>\n",
       "</table>\n",
       "</div>"
      ],
      "text/plain": [
       "    first       last                      email   salary    planet\n",
       "0     Ben     Kenobi        Benkenobi@email.com    10000   Stewjon\n",
       "1     Han       Solo          Hansolo@email.com     7000  Corellia\n",
       "2    Luke  Skywalker    Lukeskywalker@email.com   200000  Tatooine\n",
       "3  Anakin  Skywalker  Anakinskywalker@vader.com  1000000  Tatooine\n",
       "4    Leia     Organa       Leiaorgana@email.com     8000  Alderaan\n",
       "5    Chew      Bacca        Chewbacca@email.com     5000  Kashyyyk\n",
       "6  Master       Yoda       Masteryoda@force.com  2000000   Dagobah"
      ]
     },
     "execution_count": 113,
     "metadata": {},
     "output_type": "execute_result"
    }
   ],
   "source": [
    "import pandas as pd\n",
    "people = { \"first\": [\"Ben\", \"Han\", \"Luke\", \"Anakin\", \"Leia\", \"Chew\", \"Master\"], \n",
    "\"last\": [\"Kenobi\", \"Solo\", \"Skywalker\", \"Skywalker\", \"Organa\", \"Bacca\", \"Yoda\"], \n",
    "\"email\": [\"Benkenobi@email.com\", \"Hansolo@email.com\", \"Lukeskywalker@email.com\", \"Anakinskywalker@vader.com\", \"Leiaorgana@email.com\", \"Chewbacca@email.com\", \"Masteryoda@force.com\"],\n",
    "\"salary\": [10000, 7000, 200000, 1000000, 8000, 5000, 2000000],\n",
    "\"planet\": [\"Stewjon\", \"Corellia\", \"Tatooine\", \"Tatooine\", \"Alderaan\", \"Kashyyyk\", \"Dagobah\"]}\n",
    "\n",
    "df = pd.DataFrame(people)\n",
    "df"
   ]
  },
  {
   "cell_type": "code",
   "execution_count": 114,
   "metadata": {},
   "outputs": [
    {
     "data": {
      "text/plain": [
       "Index(['first', 'last', 'email', 'salary', 'planet'], dtype='object')"
      ]
     },
     "execution_count": 114,
     "metadata": {},
     "output_type": "execute_result"
    }
   ],
   "source": [
    "#Let's take a look at the columns\n",
    "df.columns"
   ]
  },
  {
   "cell_type": "markdown",
   "metadata": {},
   "source": [
    "1. Say we wanted to change one of the column names. There are a few different ways we can do this. This first way is for when you want to change the names of all of your columns."
   ]
  },
  {
   "cell_type": "code",
   "execution_count": 115,
   "metadata": {},
   "outputs": [
    {
     "data": {
      "text/plain": [
       "Index(['first_name', 'last_name', 'email_address', 'salary', 'planet'], dtype='object')"
      ]
     },
     "execution_count": 115,
     "metadata": {},
     "output_type": "execute_result"
    }
   ],
   "source": [
    "df.columns = [\"first_name\", \"last_name\", \"email_address\", \"salary\", \"planet\"]\n",
    "df.columns"
   ]
  },
  {
   "cell_type": "markdown",
   "metadata": {},
   "source": [
    "2. Maybe you need to change all of your column names to upper case. You can do this using a list comprehension."
   ]
  },
  {
   "cell_type": "code",
   "execution_count": 116,
   "metadata": {},
   "outputs": [
    {
     "data": {
      "text/html": [
       "<div>\n",
       "<style scoped>\n",
       "    .dataframe tbody tr th:only-of-type {\n",
       "        vertical-align: middle;\n",
       "    }\n",
       "\n",
       "    .dataframe tbody tr th {\n",
       "        vertical-align: top;\n",
       "    }\n",
       "\n",
       "    .dataframe thead th {\n",
       "        text-align: right;\n",
       "    }\n",
       "</style>\n",
       "<table border=\"1\" class=\"dataframe\">\n",
       "  <thead>\n",
       "    <tr style=\"text-align: right;\">\n",
       "      <th></th>\n",
       "      <th>FIRST_NAME</th>\n",
       "      <th>LAST_NAME</th>\n",
       "      <th>EMAIL_ADDRESS</th>\n",
       "      <th>SALARY</th>\n",
       "      <th>PLANET</th>\n",
       "    </tr>\n",
       "  </thead>\n",
       "  <tbody>\n",
       "    <tr>\n",
       "      <th>0</th>\n",
       "      <td>Ben</td>\n",
       "      <td>Kenobi</td>\n",
       "      <td>Benkenobi@email.com</td>\n",
       "      <td>10000</td>\n",
       "      <td>Stewjon</td>\n",
       "    </tr>\n",
       "    <tr>\n",
       "      <th>1</th>\n",
       "      <td>Han</td>\n",
       "      <td>Solo</td>\n",
       "      <td>Hansolo@email.com</td>\n",
       "      <td>7000</td>\n",
       "      <td>Corellia</td>\n",
       "    </tr>\n",
       "    <tr>\n",
       "      <th>2</th>\n",
       "      <td>Luke</td>\n",
       "      <td>Skywalker</td>\n",
       "      <td>Lukeskywalker@email.com</td>\n",
       "      <td>200000</td>\n",
       "      <td>Tatooine</td>\n",
       "    </tr>\n",
       "    <tr>\n",
       "      <th>3</th>\n",
       "      <td>Anakin</td>\n",
       "      <td>Skywalker</td>\n",
       "      <td>Anakinskywalker@vader.com</td>\n",
       "      <td>1000000</td>\n",
       "      <td>Tatooine</td>\n",
       "    </tr>\n",
       "    <tr>\n",
       "      <th>4</th>\n",
       "      <td>Leia</td>\n",
       "      <td>Organa</td>\n",
       "      <td>Leiaorgana@email.com</td>\n",
       "      <td>8000</td>\n",
       "      <td>Alderaan</td>\n",
       "    </tr>\n",
       "    <tr>\n",
       "      <th>5</th>\n",
       "      <td>Chew</td>\n",
       "      <td>Bacca</td>\n",
       "      <td>Chewbacca@email.com</td>\n",
       "      <td>5000</td>\n",
       "      <td>Kashyyyk</td>\n",
       "    </tr>\n",
       "    <tr>\n",
       "      <th>6</th>\n",
       "      <td>Master</td>\n",
       "      <td>Yoda</td>\n",
       "      <td>Masteryoda@force.com</td>\n",
       "      <td>2000000</td>\n",
       "      <td>Dagobah</td>\n",
       "    </tr>\n",
       "  </tbody>\n",
       "</table>\n",
       "</div>"
      ],
      "text/plain": [
       "  FIRST_NAME  LAST_NAME              EMAIL_ADDRESS   SALARY    PLANET\n",
       "0        Ben     Kenobi        Benkenobi@email.com    10000   Stewjon\n",
       "1        Han       Solo          Hansolo@email.com     7000  Corellia\n",
       "2       Luke  Skywalker    Lukeskywalker@email.com   200000  Tatooine\n",
       "3     Anakin  Skywalker  Anakinskywalker@vader.com  1000000  Tatooine\n",
       "4       Leia     Organa       Leiaorgana@email.com     8000  Alderaan\n",
       "5       Chew      Bacca        Chewbacca@email.com     5000  Kashyyyk\n",
       "6     Master       Yoda       Masteryoda@force.com  2000000   Dagobah"
      ]
     },
     "execution_count": 116,
     "metadata": {},
     "output_type": "execute_result"
    }
   ],
   "source": [
    "df.columns = [x.upper() for x in df.columns]\n",
    "df"
   ]
  },
  {
   "cell_type": "code",
   "execution_count": 117,
   "metadata": {},
   "outputs": [
    {
     "data": {
      "text/html": [
       "<div>\n",
       "<style scoped>\n",
       "    .dataframe tbody tr th:only-of-type {\n",
       "        vertical-align: middle;\n",
       "    }\n",
       "\n",
       "    .dataframe tbody tr th {\n",
       "        vertical-align: top;\n",
       "    }\n",
       "\n",
       "    .dataframe thead th {\n",
       "        text-align: right;\n",
       "    }\n",
       "</style>\n",
       "<table border=\"1\" class=\"dataframe\">\n",
       "  <thead>\n",
       "    <tr style=\"text-align: right;\">\n",
       "      <th></th>\n",
       "      <th>FIRST NAME</th>\n",
       "      <th>LAST NAME</th>\n",
       "      <th>EMAIL ADDRESS</th>\n",
       "      <th>SALARY</th>\n",
       "      <th>PLANET</th>\n",
       "    </tr>\n",
       "  </thead>\n",
       "  <tbody>\n",
       "    <tr>\n",
       "      <th>0</th>\n",
       "      <td>Ben</td>\n",
       "      <td>Kenobi</td>\n",
       "      <td>Benkenobi@email.com</td>\n",
       "      <td>10000</td>\n",
       "      <td>Stewjon</td>\n",
       "    </tr>\n",
       "    <tr>\n",
       "      <th>1</th>\n",
       "      <td>Han</td>\n",
       "      <td>Solo</td>\n",
       "      <td>Hansolo@email.com</td>\n",
       "      <td>7000</td>\n",
       "      <td>Corellia</td>\n",
       "    </tr>\n",
       "    <tr>\n",
       "      <th>2</th>\n",
       "      <td>Luke</td>\n",
       "      <td>Skywalker</td>\n",
       "      <td>Lukeskywalker@email.com</td>\n",
       "      <td>200000</td>\n",
       "      <td>Tatooine</td>\n",
       "    </tr>\n",
       "    <tr>\n",
       "      <th>3</th>\n",
       "      <td>Anakin</td>\n",
       "      <td>Skywalker</td>\n",
       "      <td>Anakinskywalker@vader.com</td>\n",
       "      <td>1000000</td>\n",
       "      <td>Tatooine</td>\n",
       "    </tr>\n",
       "    <tr>\n",
       "      <th>4</th>\n",
       "      <td>Leia</td>\n",
       "      <td>Organa</td>\n",
       "      <td>Leiaorgana@email.com</td>\n",
       "      <td>8000</td>\n",
       "      <td>Alderaan</td>\n",
       "    </tr>\n",
       "    <tr>\n",
       "      <th>5</th>\n",
       "      <td>Chew</td>\n",
       "      <td>Bacca</td>\n",
       "      <td>Chewbacca@email.com</td>\n",
       "      <td>5000</td>\n",
       "      <td>Kashyyyk</td>\n",
       "    </tr>\n",
       "    <tr>\n",
       "      <th>6</th>\n",
       "      <td>Master</td>\n",
       "      <td>Yoda</td>\n",
       "      <td>Masteryoda@force.com</td>\n",
       "      <td>2000000</td>\n",
       "      <td>Dagobah</td>\n",
       "    </tr>\n",
       "  </tbody>\n",
       "</table>\n",
       "</div>"
      ],
      "text/plain": [
       "  FIRST NAME  LAST NAME              EMAIL ADDRESS   SALARY    PLANET\n",
       "0        Ben     Kenobi        Benkenobi@email.com    10000   Stewjon\n",
       "1        Han       Solo          Hansolo@email.com     7000  Corellia\n",
       "2       Luke  Skywalker    Lukeskywalker@email.com   200000  Tatooine\n",
       "3     Anakin  Skywalker  Anakinskywalker@vader.com  1000000  Tatooine\n",
       "4       Leia     Organa       Leiaorgana@email.com     8000  Alderaan\n",
       "5       Chew      Bacca        Chewbacca@email.com     5000  Kashyyyk\n",
       "6     Master       Yoda       Masteryoda@force.com  2000000   Dagobah"
      ]
     },
     "execution_count": 117,
     "metadata": {},
     "output_type": "execute_result"
    }
   ],
   "source": [
    "#changing underscores to spaces in column names\n",
    "df.columns = df.columns.str.replace('_', ' ')\n",
    "df"
   ]
  },
  {
   "cell_type": "markdown",
   "metadata": {},
   "source": [
    "3. If you only want to change some columns, you can use the rename method."
   ]
  },
  {
   "cell_type": "code",
   "execution_count": 118,
   "metadata": {},
   "outputs": [
    {
     "data": {
      "text/html": [
       "<div>\n",
       "<style scoped>\n",
       "    .dataframe tbody tr th:only-of-type {\n",
       "        vertical-align: middle;\n",
       "    }\n",
       "\n",
       "    .dataframe tbody tr th {\n",
       "        vertical-align: top;\n",
       "    }\n",
       "\n",
       "    .dataframe thead th {\n",
       "        text-align: right;\n",
       "    }\n",
       "</style>\n",
       "<table border=\"1\" class=\"dataframe\">\n",
       "  <thead>\n",
       "    <tr style=\"text-align: right;\">\n",
       "      <th></th>\n",
       "      <th>first</th>\n",
       "      <th>last</th>\n",
       "      <th>EMAIL ADDRESS</th>\n",
       "      <th>SALARY</th>\n",
       "      <th>PLANET</th>\n",
       "    </tr>\n",
       "  </thead>\n",
       "  <tbody>\n",
       "    <tr>\n",
       "      <th>0</th>\n",
       "      <td>Ben</td>\n",
       "      <td>Kenobi</td>\n",
       "      <td>Benkenobi@email.com</td>\n",
       "      <td>10000</td>\n",
       "      <td>Stewjon</td>\n",
       "    </tr>\n",
       "    <tr>\n",
       "      <th>1</th>\n",
       "      <td>Han</td>\n",
       "      <td>Solo</td>\n",
       "      <td>Hansolo@email.com</td>\n",
       "      <td>7000</td>\n",
       "      <td>Corellia</td>\n",
       "    </tr>\n",
       "    <tr>\n",
       "      <th>2</th>\n",
       "      <td>Luke</td>\n",
       "      <td>Skywalker</td>\n",
       "      <td>Lukeskywalker@email.com</td>\n",
       "      <td>200000</td>\n",
       "      <td>Tatooine</td>\n",
       "    </tr>\n",
       "    <tr>\n",
       "      <th>3</th>\n",
       "      <td>Anakin</td>\n",
       "      <td>Skywalker</td>\n",
       "      <td>Anakinskywalker@vader.com</td>\n",
       "      <td>1000000</td>\n",
       "      <td>Tatooine</td>\n",
       "    </tr>\n",
       "    <tr>\n",
       "      <th>4</th>\n",
       "      <td>Leia</td>\n",
       "      <td>Organa</td>\n",
       "      <td>Leiaorgana@email.com</td>\n",
       "      <td>8000</td>\n",
       "      <td>Alderaan</td>\n",
       "    </tr>\n",
       "    <tr>\n",
       "      <th>5</th>\n",
       "      <td>Chew</td>\n",
       "      <td>Bacca</td>\n",
       "      <td>Chewbacca@email.com</td>\n",
       "      <td>5000</td>\n",
       "      <td>Kashyyyk</td>\n",
       "    </tr>\n",
       "    <tr>\n",
       "      <th>6</th>\n",
       "      <td>Master</td>\n",
       "      <td>Yoda</td>\n",
       "      <td>Masteryoda@force.com</td>\n",
       "      <td>2000000</td>\n",
       "      <td>Dagobah</td>\n",
       "    </tr>\n",
       "  </tbody>\n",
       "</table>\n",
       "</div>"
      ],
      "text/plain": [
       "    first       last              EMAIL ADDRESS   SALARY    PLANET\n",
       "0     Ben     Kenobi        Benkenobi@email.com    10000   Stewjon\n",
       "1     Han       Solo          Hansolo@email.com     7000  Corellia\n",
       "2    Luke  Skywalker    Lukeskywalker@email.com   200000  Tatooine\n",
       "3  Anakin  Skywalker  Anakinskywalker@vader.com  1000000  Tatooine\n",
       "4    Leia     Organa       Leiaorgana@email.com     8000  Alderaan\n",
       "5    Chew      Bacca        Chewbacca@email.com     5000  Kashyyyk\n",
       "6  Master       Yoda       Masteryoda@force.com  2000000   Dagobah"
      ]
     },
     "execution_count": 118,
     "metadata": {},
     "output_type": "execute_result"
    }
   ],
   "source": [
    "df.rename(columns={\"FIRST NAME\": \"first\", \"LAST NAME\": \"last\"}, inplace=True)\n",
    "df\n",
    "#The columns are now set back the way they were."
   ]
  },
  {
   "cell_type": "markdown",
   "metadata": {},
   "source": [
    "4. How to update a single value in a row. We can use loc and iloc as our starting points."
   ]
  },
  {
   "cell_type": "code",
   "execution_count": 119,
   "metadata": {},
   "outputs": [
    {
     "data": {
      "text/html": [
       "<div>\n",
       "<style scoped>\n",
       "    .dataframe tbody tr th:only-of-type {\n",
       "        vertical-align: middle;\n",
       "    }\n",
       "\n",
       "    .dataframe tbody tr th {\n",
       "        vertical-align: top;\n",
       "    }\n",
       "\n",
       "    .dataframe thead th {\n",
       "        text-align: right;\n",
       "    }\n",
       "</style>\n",
       "<table border=\"1\" class=\"dataframe\">\n",
       "  <thead>\n",
       "    <tr style=\"text-align: right;\">\n",
       "      <th></th>\n",
       "      <th>first</th>\n",
       "      <th>last</th>\n",
       "      <th>EMAIL ADDRESS</th>\n",
       "      <th>SALARY</th>\n",
       "      <th>PLANET</th>\n",
       "    </tr>\n",
       "  </thead>\n",
       "  <tbody>\n",
       "    <tr>\n",
       "      <th>0</th>\n",
       "      <td>Ben</td>\n",
       "      <td>Kenobi</td>\n",
       "      <td>Benkenobi@email.com</td>\n",
       "      <td>10000</td>\n",
       "      <td>Stewjon</td>\n",
       "    </tr>\n",
       "    <tr>\n",
       "      <th>1</th>\n",
       "      <td>Han</td>\n",
       "      <td>Solo</td>\n",
       "      <td>Hansolo@email.com</td>\n",
       "      <td>7000</td>\n",
       "      <td>Corellia</td>\n",
       "    </tr>\n",
       "    <tr>\n",
       "      <th>2</th>\n",
       "      <td>Luke</td>\n",
       "      <td>Smith</td>\n",
       "      <td>Lukeskywalker@email.com</td>\n",
       "      <td>200000</td>\n",
       "      <td>Tatooine</td>\n",
       "    </tr>\n",
       "    <tr>\n",
       "      <th>3</th>\n",
       "      <td>Anakin</td>\n",
       "      <td>Skywalker</td>\n",
       "      <td>Anakinskywalker@vader.com</td>\n",
       "      <td>1000000</td>\n",
       "      <td>Tatooine</td>\n",
       "    </tr>\n",
       "    <tr>\n",
       "      <th>4</th>\n",
       "      <td>Leia</td>\n",
       "      <td>Organa</td>\n",
       "      <td>Leiaorgana@email.com</td>\n",
       "      <td>8000</td>\n",
       "      <td>Alderaan</td>\n",
       "    </tr>\n",
       "    <tr>\n",
       "      <th>5</th>\n",
       "      <td>Chew</td>\n",
       "      <td>Bacca</td>\n",
       "      <td>Chewbacca@email.com</td>\n",
       "      <td>5000</td>\n",
       "      <td>Kashyyyk</td>\n",
       "    </tr>\n",
       "    <tr>\n",
       "      <th>6</th>\n",
       "      <td>Master</td>\n",
       "      <td>Yoda</td>\n",
       "      <td>Masteryoda@force.com</td>\n",
       "      <td>2000000</td>\n",
       "      <td>Dagobah</td>\n",
       "    </tr>\n",
       "  </tbody>\n",
       "</table>\n",
       "</div>"
      ],
      "text/plain": [
       "    first       last              EMAIL ADDRESS   SALARY    PLANET\n",
       "0     Ben     Kenobi        Benkenobi@email.com    10000   Stewjon\n",
       "1     Han       Solo          Hansolo@email.com     7000  Corellia\n",
       "2    Luke      Smith    Lukeskywalker@email.com   200000  Tatooine\n",
       "3  Anakin  Skywalker  Anakinskywalker@vader.com  1000000  Tatooine\n",
       "4    Leia     Organa       Leiaorgana@email.com     8000  Alderaan\n",
       "5    Chew      Bacca        Chewbacca@email.com     5000  Kashyyyk\n",
       "6  Master       Yoda       Masteryoda@force.com  2000000   Dagobah"
      ]
     },
     "execution_count": 119,
     "metadata": {},
     "output_type": "execute_result"
    }
   ],
   "source": [
    "df.loc[2,['last']] = ['Smith']\n",
    "df"
   ]
  },
  {
   "cell_type": "code",
   "execution_count": 120,
   "metadata": {},
   "outputs": [
    {
     "data": {
      "text/html": [
       "<div>\n",
       "<style scoped>\n",
       "    .dataframe tbody tr th:only-of-type {\n",
       "        vertical-align: middle;\n",
       "    }\n",
       "\n",
       "    .dataframe tbody tr th {\n",
       "        vertical-align: top;\n",
       "    }\n",
       "\n",
       "    .dataframe thead th {\n",
       "        text-align: right;\n",
       "    }\n",
       "</style>\n",
       "<table border=\"1\" class=\"dataframe\">\n",
       "  <thead>\n",
       "    <tr style=\"text-align: right;\">\n",
       "      <th></th>\n",
       "      <th>first</th>\n",
       "      <th>last</th>\n",
       "      <th>EMAIL ADDRESS</th>\n",
       "      <th>SALARY</th>\n",
       "      <th>PLANET</th>\n",
       "    </tr>\n",
       "  </thead>\n",
       "  <tbody>\n",
       "    <tr>\n",
       "      <th>0</th>\n",
       "      <td>Ben</td>\n",
       "      <td>Kenobi</td>\n",
       "      <td>Benkenobi@email.com</td>\n",
       "      <td>10000</td>\n",
       "      <td>Stewjon</td>\n",
       "    </tr>\n",
       "    <tr>\n",
       "      <th>1</th>\n",
       "      <td>Han</td>\n",
       "      <td>Solo</td>\n",
       "      <td>Hansolo@email.com</td>\n",
       "      <td>7000</td>\n",
       "      <td>Corellia</td>\n",
       "    </tr>\n",
       "    <tr>\n",
       "      <th>2</th>\n",
       "      <td>Luke</td>\n",
       "      <td>Skywalker</td>\n",
       "      <td>Lukeskywalker@email.com</td>\n",
       "      <td>200000</td>\n",
       "      <td>Tatooine</td>\n",
       "    </tr>\n",
       "    <tr>\n",
       "      <th>3</th>\n",
       "      <td>Anakin</td>\n",
       "      <td>Skywalker</td>\n",
       "      <td>Anakinskywalker@vader.com</td>\n",
       "      <td>1000000</td>\n",
       "      <td>Tatooine</td>\n",
       "    </tr>\n",
       "    <tr>\n",
       "      <th>4</th>\n",
       "      <td>Leia</td>\n",
       "      <td>Organa</td>\n",
       "      <td>Leiaorgana@email.com</td>\n",
       "      <td>8000</td>\n",
       "      <td>Alderaan</td>\n",
       "    </tr>\n",
       "    <tr>\n",
       "      <th>5</th>\n",
       "      <td>Chew</td>\n",
       "      <td>Bacca</td>\n",
       "      <td>Chewbacca@email.com</td>\n",
       "      <td>5000</td>\n",
       "      <td>Kashyyyk</td>\n",
       "    </tr>\n",
       "    <tr>\n",
       "      <th>6</th>\n",
       "      <td>Master</td>\n",
       "      <td>Yoda</td>\n",
       "      <td>Masteryoda@force.com</td>\n",
       "      <td>2000000</td>\n",
       "      <td>Dagobah</td>\n",
       "    </tr>\n",
       "  </tbody>\n",
       "</table>\n",
       "</div>"
      ],
      "text/plain": [
       "    first       last              EMAIL ADDRESS   SALARY    PLANET\n",
       "0     Ben     Kenobi        Benkenobi@email.com    10000   Stewjon\n",
       "1     Han       Solo          Hansolo@email.com     7000  Corellia\n",
       "2    Luke  Skywalker    Lukeskywalker@email.com   200000  Tatooine\n",
       "3  Anakin  Skywalker  Anakinskywalker@vader.com  1000000  Tatooine\n",
       "4    Leia     Organa       Leiaorgana@email.com     8000  Alderaan\n",
       "5    Chew      Bacca        Chewbacca@email.com     5000  Kashyyyk\n",
       "6  Master       Yoda       Masteryoda@force.com  2000000   Dagobah"
      ]
     },
     "execution_count": 120,
     "metadata": {},
     "output_type": "execute_result"
    }
   ],
   "source": [
    "#You can also use .at to change a single value\n",
    "df.at[2, 'last'] = 'Skywalker'\n",
    "df"
   ]
  },
  {
   "cell_type": "markdown",
   "metadata": {},
   "source": [
    "If you want to change one of your columns from upper cases to lowercase or vice versa, you can use the lower() method"
   ]
  },
  {
   "cell_type": "code",
   "execution_count": 121,
   "metadata": {},
   "outputs": [
    {
     "data": {
      "text/plain": [
       "0          benkenobi@email.com\n",
       "1            hansolo@email.com\n",
       "2      lukeskywalker@email.com\n",
       "3    anakinskywalker@vader.com\n",
       "4         leiaorgana@email.com\n",
       "5          chewbacca@email.com\n",
       "6         masteryoda@force.com\n",
       "Name: EMAIL ADDRESS, dtype: object"
      ]
     },
     "execution_count": 121,
     "metadata": {},
     "output_type": "execute_result"
    }
   ],
   "source": [
    "df['EMAIL ADDRESS'].str.lower()"
   ]
  },
  {
   "cell_type": "code",
   "execution_count": 122,
   "metadata": {},
   "outputs": [
    {
     "data": {
      "text/html": [
       "<div>\n",
       "<style scoped>\n",
       "    .dataframe tbody tr th:only-of-type {\n",
       "        vertical-align: middle;\n",
       "    }\n",
       "\n",
       "    .dataframe tbody tr th {\n",
       "        vertical-align: top;\n",
       "    }\n",
       "\n",
       "    .dataframe thead th {\n",
       "        text-align: right;\n",
       "    }\n",
       "</style>\n",
       "<table border=\"1\" class=\"dataframe\">\n",
       "  <thead>\n",
       "    <tr style=\"text-align: right;\">\n",
       "      <th></th>\n",
       "      <th>first</th>\n",
       "      <th>last</th>\n",
       "      <th>EMAIL ADDRESS</th>\n",
       "      <th>SALARY</th>\n",
       "      <th>PLANET</th>\n",
       "    </tr>\n",
       "  </thead>\n",
       "  <tbody>\n",
       "    <tr>\n",
       "      <th>0</th>\n",
       "      <td>Ben</td>\n",
       "      <td>Kenobi</td>\n",
       "      <td>benkenobi@email.com</td>\n",
       "      <td>10000</td>\n",
       "      <td>Stewjon</td>\n",
       "    </tr>\n",
       "    <tr>\n",
       "      <th>1</th>\n",
       "      <td>Han</td>\n",
       "      <td>Solo</td>\n",
       "      <td>hansolo@email.com</td>\n",
       "      <td>7000</td>\n",
       "      <td>Corellia</td>\n",
       "    </tr>\n",
       "    <tr>\n",
       "      <th>2</th>\n",
       "      <td>Luke</td>\n",
       "      <td>Skywalker</td>\n",
       "      <td>lukeskywalker@email.com</td>\n",
       "      <td>200000</td>\n",
       "      <td>Tatooine</td>\n",
       "    </tr>\n",
       "    <tr>\n",
       "      <th>3</th>\n",
       "      <td>Anakin</td>\n",
       "      <td>Skywalker</td>\n",
       "      <td>anakinskywalker@vader.com</td>\n",
       "      <td>1000000</td>\n",
       "      <td>Tatooine</td>\n",
       "    </tr>\n",
       "    <tr>\n",
       "      <th>4</th>\n",
       "      <td>Leia</td>\n",
       "      <td>Organa</td>\n",
       "      <td>leiaorgana@email.com</td>\n",
       "      <td>8000</td>\n",
       "      <td>Alderaan</td>\n",
       "    </tr>\n",
       "    <tr>\n",
       "      <th>5</th>\n",
       "      <td>Chew</td>\n",
       "      <td>Bacca</td>\n",
       "      <td>chewbacca@email.com</td>\n",
       "      <td>5000</td>\n",
       "      <td>Kashyyyk</td>\n",
       "    </tr>\n",
       "    <tr>\n",
       "      <th>6</th>\n",
       "      <td>Master</td>\n",
       "      <td>Yoda</td>\n",
       "      <td>masteryoda@force.com</td>\n",
       "      <td>2000000</td>\n",
       "      <td>Dagobah</td>\n",
       "    </tr>\n",
       "  </tbody>\n",
       "</table>\n",
       "</div>"
      ],
      "text/plain": [
       "    first       last              EMAIL ADDRESS   SALARY    PLANET\n",
       "0     Ben     Kenobi        benkenobi@email.com    10000   Stewjon\n",
       "1     Han       Solo          hansolo@email.com     7000  Corellia\n",
       "2    Luke  Skywalker    lukeskywalker@email.com   200000  Tatooine\n",
       "3  Anakin  Skywalker  anakinskywalker@vader.com  1000000  Tatooine\n",
       "4    Leia     Organa       leiaorgana@email.com     8000  Alderaan\n",
       "5    Chew      Bacca        chewbacca@email.com     5000  Kashyyyk\n",
       "6  Master       Yoda       masteryoda@force.com  2000000   Dagobah"
      ]
     },
     "execution_count": 122,
     "metadata": {},
     "output_type": "execute_result"
    }
   ],
   "source": [
    "#You'll notice that if you run df again, those changes don't stay. In order to make them permanent, you can do this.\n",
    "df['EMAIL ADDRESS'] = df['EMAIL ADDRESS'].str.lower()\n",
    "df"
   ]
  },
  {
   "cell_type": "markdown",
   "metadata": {},
   "source": [
    "If you want to do something a little more advanced, there are four popular methods you can use:\n",
    "\n",
    "Apply \n",
    "\n",
    "Map\n",
    "\n",
    "Applymap\n",
    "\n",
    "Replace "
   ]
  },
  {
   "cell_type": "code",
   "execution_count": 123,
   "metadata": {},
   "outputs": [
    {
     "data": {
      "text/plain": [
       "0          BENKENOBI@EMAIL.COM\n",
       "1            HANSOLO@EMAIL.COM\n",
       "2      LUKESKYWALKER@EMAIL.COM\n",
       "3    ANAKINSKYWALKER@VADER.COM\n",
       "4         LEIAORGANA@EMAIL.COM\n",
       "5          CHEWBACCA@EMAIL.COM\n",
       "6         MASTERYODA@FORCE.COM\n",
       "Name: EMAIL ADDRESS, dtype: object"
      ]
     },
     "execution_count": 123,
     "metadata": {},
     "output_type": "execute_result"
    }
   ],
   "source": [
    "#Apply - It can apply a function to every value in our series\n",
    "def update_email(EMAILADDRESS): #Returns the emails in uppercase\n",
    "    return EMAILADDRESS.upper()\n",
    "\n",
    "df['EMAIL ADDRESS'].apply(update_email)\n"
   ]
  },
  {
   "cell_type": "code",
   "execution_count": 124,
   "metadata": {},
   "outputs": [
    {
     "data": {
      "text/plain": [
       "0    5\n",
       "1    5\n",
       "2    5\n",
       "3    5\n",
       "4    5\n",
       "5    5\n",
       "6    5\n",
       "dtype: int64"
      ]
     },
     "execution_count": 124,
     "metadata": {},
     "output_type": "execute_result"
    }
   ],
   "source": [
    "#You can also use apply with rows.\n",
    "df.apply(len, axis='columns')"
   ]
  },
  {
   "cell_type": "code",
   "execution_count": 125,
   "metadata": {},
   "outputs": [
    {
     "data": {
      "text/plain": [
       "first                               Anakin\n",
       "last                                 Bacca\n",
       "EMAIL ADDRESS    anakinskywalker@vader.com\n",
       "SALARY                                5000\n",
       "PLANET                            Alderaan\n",
       "dtype: object"
      ]
     },
     "execution_count": 125,
     "metadata": {},
     "output_type": "execute_result"
    }
   ],
   "source": [
    "df.apply(lambda x: x.min()) #X is a series not a value"
   ]
  },
  {
   "cell_type": "code",
   "execution_count": 131,
   "metadata": {},
   "outputs": [],
   "source": [
    "def Salary2String(SALARY): #Returns the salaries in string form\n",
    "    return str(SALARY)\n",
    "\n",
    "df['SALARY'] = df['SALARY'].apply(Salary2String)"
   ]
  },
  {
   "cell_type": "code",
   "execution_count": 132,
   "metadata": {},
   "outputs": [
    {
     "data": {
      "text/html": [
       "<div>\n",
       "<style scoped>\n",
       "    .dataframe tbody tr th:only-of-type {\n",
       "        vertical-align: middle;\n",
       "    }\n",
       "\n",
       "    .dataframe tbody tr th {\n",
       "        vertical-align: top;\n",
       "    }\n",
       "\n",
       "    .dataframe thead th {\n",
       "        text-align: right;\n",
       "    }\n",
       "</style>\n",
       "<table border=\"1\" class=\"dataframe\">\n",
       "  <thead>\n",
       "    <tr style=\"text-align: right;\">\n",
       "      <th></th>\n",
       "      <th>first</th>\n",
       "      <th>last</th>\n",
       "      <th>EMAIL ADDRESS</th>\n",
       "      <th>SALARY</th>\n",
       "      <th>PLANET</th>\n",
       "    </tr>\n",
       "  </thead>\n",
       "  <tbody>\n",
       "    <tr>\n",
       "      <th>0</th>\n",
       "      <td>3</td>\n",
       "      <td>6</td>\n",
       "      <td>19</td>\n",
       "      <td>5</td>\n",
       "      <td>7</td>\n",
       "    </tr>\n",
       "    <tr>\n",
       "      <th>1</th>\n",
       "      <td>3</td>\n",
       "      <td>4</td>\n",
       "      <td>17</td>\n",
       "      <td>4</td>\n",
       "      <td>8</td>\n",
       "    </tr>\n",
       "    <tr>\n",
       "      <th>2</th>\n",
       "      <td>4</td>\n",
       "      <td>9</td>\n",
       "      <td>23</td>\n",
       "      <td>6</td>\n",
       "      <td>8</td>\n",
       "    </tr>\n",
       "    <tr>\n",
       "      <th>3</th>\n",
       "      <td>6</td>\n",
       "      <td>9</td>\n",
       "      <td>25</td>\n",
       "      <td>7</td>\n",
       "      <td>8</td>\n",
       "    </tr>\n",
       "    <tr>\n",
       "      <th>4</th>\n",
       "      <td>4</td>\n",
       "      <td>6</td>\n",
       "      <td>20</td>\n",
       "      <td>4</td>\n",
       "      <td>8</td>\n",
       "    </tr>\n",
       "    <tr>\n",
       "      <th>5</th>\n",
       "      <td>4</td>\n",
       "      <td>5</td>\n",
       "      <td>19</td>\n",
       "      <td>4</td>\n",
       "      <td>8</td>\n",
       "    </tr>\n",
       "    <tr>\n",
       "      <th>6</th>\n",
       "      <td>6</td>\n",
       "      <td>4</td>\n",
       "      <td>20</td>\n",
       "      <td>7</td>\n",
       "      <td>7</td>\n",
       "    </tr>\n",
       "  </tbody>\n",
       "</table>\n",
       "</div>"
      ],
      "text/plain": [
       "   first  last  EMAIL ADDRESS  SALARY  PLANET\n",
       "0      3     6             19       5       7\n",
       "1      3     4             17       4       8\n",
       "2      4     9             23       6       8\n",
       "3      6     9             25       7       8\n",
       "4      4     6             20       4       8\n",
       "5      4     5             19       4       8\n",
       "6      6     4             20       7       7"
      ]
     },
     "execution_count": 132,
     "metadata": {},
     "output_type": "execute_result"
    }
   ],
   "source": [
    "#Apply map - Applies a function to every individual element in the dataframe\n",
    "df.applymap(len) #Applies the length function to each value in our dataframe"
   ]
  },
  {
   "cell_type": "code",
   "execution_count": null,
   "metadata": {},
   "outputs": [],
   "source": [
    "def Salary2Int(SALARY): #Returns the salaries in integer\n",
    "    return int(SALARY)\n",
    "\n",
    "df['SALARY'] = df['SALARY'].apply(Salary2Int)"
   ]
  },
  {
   "cell_type": "code",
   "execution_count": 128,
   "metadata": {},
   "outputs": [
    {
     "data": {
      "text/plain": [
       "0    Obi-Wan\n",
       "1        NaN\n",
       "2        NaN\n",
       "3        NaN\n",
       "4        NaN\n",
       "5        NaN\n",
       "6       Baby\n",
       "Name: first, dtype: object"
      ]
     },
     "execution_count": 128,
     "metadata": {},
     "output_type": "execute_result"
    }
   ],
   "source": [
    "#Map- The map method only works on a series. It's used for substituing each value in a series with another value.\n",
    "#In this example we're going to substitute some of our first names.\n",
    "df['first'].map({'Master': 'Baby', 'Ben': 'Obi-Wan'})\n",
    "#The values we didn't changed get converted to NaN values(not a number)"
   ]
  },
  {
   "cell_type": "code",
   "execution_count": 133,
   "metadata": {},
   "outputs": [
    {
     "data": {
      "text/plain": [
       "0    Obi-Wan\n",
       "1        Han\n",
       "2       Luke\n",
       "3     Anakin\n",
       "4       Leia\n",
       "5       Chew\n",
       "6       Baby\n",
       "Name: first, dtype: object"
      ]
     },
     "execution_count": 133,
     "metadata": {},
     "output_type": "execute_result"
    }
   ],
   "source": [
    "#In this example, we dont want to get rid of the other names. Instead of map, we can use the replace method.\n",
    "df['first'].replace({'Master': 'Baby', 'Ben': 'Obi-Wan'})\n",
    "#Notice how it doesn't change the other names.\n",
    "#If you want this change to be permanent, you'd have to have df ['first'] = df['first'].replace({'Master': 'Baby', 'Ben': 'Obi-Wan'})"
   ]
  }
 ],
 "metadata": {
  "kernelspec": {
   "display_name": "Python 3.10.8 64-bit",
   "language": "python",
   "name": "python3"
  },
  "language_info": {
   "codemirror_mode": {
    "name": "ipython",
    "version": 3
   },
   "file_extension": ".py",
   "mimetype": "text/x-python",
   "name": "python",
   "nbconvert_exporter": "python",
   "pygments_lexer": "ipython3",
   "version": "3.10.8"
  },
  "orig_nbformat": 4,
  "vscode": {
   "interpreter": {
    "hash": "369f2c481f4da34e4445cda3fffd2e751bd1c4d706f27375911949ba6bb62e1c"
   }
  }
 },
 "nbformat": 4,
 "nbformat_minor": 2
}
